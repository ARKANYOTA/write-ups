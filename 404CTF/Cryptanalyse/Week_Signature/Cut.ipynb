{
 "cells": [
  {
   "cell_type": "code",
   "execution_count": 1,
   "id": "2e64bb7d",
   "metadata": {
    "pycharm": {
     "name": "#%%\n"
    }
   },
   "outputs": [],
   "source": [
    "with open(\"script.py.zsig\", \"rb\") as f:\n",
    "    a = f.read()"
   ]
  },
  {
   "cell_type": "code",
   "execution_count": 10,
   "id": "35adb561",
   "metadata": {
    "pycharm": {
     "name": "#%%\n"
    }
   },
   "outputs": [
    {
     "data": {
      "text/plain": [
       "133"
      ]
     },
     "execution_count": 10,
     "metadata": {},
     "output_type": "execute_result"
    }
   ],
   "source": [
    "a.find(b\"#\")"
   ]
  },
  {
   "cell_type": "code",
   "execution_count": 40,
   "id": "d0575705",
   "metadata": {
    "pycharm": {
     "name": "#%%\n"
    }
   },
   "outputs": [],
   "source": [
    "start = a[:311].split(b\"\\x03\")\n",
    "end = a[312:]\n",
    "n = 221027607696016055330225199730004315633371808272167570987738708218816159833989480355901373361425282092914736310694029777936753927631812865622326955729592220642870561983138852634957728096291312307092550755716648880511833062740232861937708219741536005110883882372419034097193889630562360199603238619292770230484188772936262259410362789470181350351169944338502734560511300850685040238166004812599312697863279097878240430563714732124632651690886061257136157390268372745145428925223780181129620285589838270820282051669863964181353006744093479768868790988029676360187172005933366198639891820146811651748962622102323334597"
   ]
  },
  {
   "cell_type": "code",
   "execution_count": 41,
   "id": "b9b63747",
   "metadata": {
    "pycharm": {
     "name": "#%%\n"
    }
   },
   "outputs": [
    {
     "name": "stdout",
     "output_type": "stream",
     "text": [
      "b'\\x01ZSig\\x02\\x00\\x00\\x00\\x00\\x00\\x00\\x00\\x00\\x00\\x00\\x00\\x00\\x00\\x00\\x00\\x00\\x00\\x00\\x00\\x00\\x00\\x00\\x00\\x00\\x00\\x00\\x00\\x00\\x00\\x00\\x00\\x00\\x00\\x00\\x00\\x00\\x00\\x00\\x00\\x00\\x00\\x00\\x00\\x00\\x00\\xdb\\xc3\\xe3|\\x11;\\xb1\\xa1e\\xe4\\xe2\\xf3l*@l\\x8f\\xac^R\\xb7~\\x95\\x12\\x14~J\\xea\\x85\\xc10Z9\\xc8\\xdf\\x0ey7\\x88\\x85\\xd1\\x99\\xc8B\\xc6\\xa2\\x06\\xba\\x04\\xaaks\\xb0x/\\xa1qBB\\x91\\xb1\\x0ew\\xb5\\x13\\x89z\\xa1\\x19\\xb4\\x00\\xbbQ\\x93ad\\x08\\xeaI)\\xed\\x7f#\\x80\\xbc<\\x82\\x9d\\xf3\\xa82\\xcdG\\x17d(Z\\x82,\\x9cu\\xd9\\xf8O[l\\x18\\xc9\\x10\\x87\\xb5&\\x02\\xc3\\xd9\\xb6\\x0eE(\\xd4h\\xed\\xf8\\xd9\\xd3\\x01\\xa0\\x98N\\x9a*B\\r\\x05\\'\\x7f\\x0cm\\xc4\\xeec\\x86\\xed\\x1eP\\x9b\\xf2\\x1fV\\xd5O\\xd6T\\xd0\\xadM\\xc4u\\x82Y\\x1dl\\xfc\\xfe\\x8b\\xf3G\\xf42\\xe0\\xa3 \\x8e\\xa4UW\\x14\\xf8\\xce;\\xc9$\\x8a\\xa1\\xc3\\\\@\\xff\\xa8mZ\\'\\\\\\xb5{/\\x9d\\x9a\\xf5\\xe5$\\xf4\\xdbU\\x898,\\xb7\\x92\\x88\\x90\\x017L\"\\xd4+V-\\xd7\\xf0\\xe73\\xc1{\\xb3}\\x8f\\xca\\xb3\\x96\\x80\\xc0\\xc9\\xd9\\xfe*\\xfdL\\x1e\\xa2,\\xaa>\\x83\\xe4\\xebpP\\x92\\x11\\x16Nw>'\n",
      "b'\\x00\\x00\\x00z'\n",
      "b'# This is a demo script. It doesn\\'t do much, but I like it. You can use it too if you want :D\\n\\nprint(\"Hello, CTF player!\")'\n"
     ]
    }
   ],
   "source": [
    "for i in start:\n",
    "    print(i)\n",
    "print(end)"
   ]
  },
  {
   "cell_type": "code",
   "execution_count": 42,
   "id": "2898820f",
   "metadata": {
    "pycharm": {
     "name": "#%%\n"
    }
   },
   "outputs": [],
   "source": [
    "signature_byte = start[0][30:]\n",
    "size_byte = start[1]"
   ]
  },
  {
   "cell_type": "code",
   "execution_count": 43,
   "id": "a315f079",
   "metadata": {
    "pycharm": {
     "name": "#%%\n"
    }
   },
   "outputs": [],
   "source": [
    "signature = int.from_bytes(signature_byte,\"big\")\n",
    "size = int.from_bytes(size_byte, 'big')"
   ]
  },
  {
   "cell_type": "code",
   "execution_count": 44,
   "id": "9bd010cd",
   "metadata": {
    "pycharm": {
     "name": "#%%\n"
    }
   },
   "outputs": [
    {
     "data": {
      "text/plain": [
       "108370254149495811773765951086696954388030558445734522441720048245823032398210175214429397034813356439645048009766600344276332053274770271549695695399242926181267054037656773773634804833658225405488854070660656481656485228983716712987908047629347924528623372530152844733745863295323940353826379425530704832775555184988386277728842503266184119241951969659999540227017574427214638885758419533799707291303570930491065416222395694452668575692482169476804222146269665687420342413932772293592040890344739041379765950317770003226318091373813153640453902666424652831020641344593873903572552759887435912584206554451780990782"
      ]
     },
     "execution_count": 44,
     "metadata": {},
     "output_type": "execute_result"
    }
   ],
   "source": [
    "signature % n"
   ]
  },
  {
   "cell_type": "code",
   "execution_count": 45,
   "id": "7a882fa3",
   "metadata": {
    "pycharm": {
     "name": "#%%\n"
    }
   },
   "outputs": [],
   "source": [
    "data = end\n",
    "m = len(data)*sum(data)"
   ]
  },
  {
   "cell_type": "code",
   "execution_count": 50,
   "id": "ad5f9e19",
   "metadata": {
    "pycharm": {
     "name": "#%%\n"
    }
   },
   "outputs": [
    {
     "name": "stderr",
     "output_type": "stream",
     "text": [
      " 15%|████████████▏                                                                  | 154916786/1000000000 [02:12<12:02, 1169501.99it/s]\n"
     ]
    },
    {
     "ename": "KeyboardInterrupt",
     "evalue": "",
     "output_type": "error",
     "traceback": [
      "\u001B[0;31m---------------------------------------------------------------------------\u001B[0m",
      "\u001B[0;31mKeyboardInterrupt\u001B[0m                         Traceback (most recent call last)",
      "Input \u001B[0;32mIn [50]\u001B[0m, in \u001B[0;36m<cell line: 3>\u001B[0;34m()\u001B[0m\n\u001B[1;32m      2\u001B[0m s \u001B[38;5;241m=\u001B[39m m\n\u001B[1;32m      3\u001B[0m \u001B[38;5;28;01mfor\u001B[39;00m d \u001B[38;5;129;01min\u001B[39;00m tqdm(\u001B[38;5;28mrange\u001B[39m(\u001B[38;5;241m1000000000\u001B[39m)):\n\u001B[0;32m----> 4\u001B[0m     s \u001B[38;5;241m=\u001B[39m \u001B[43ms\u001B[49m\u001B[38;5;241;43m*\u001B[39;49m\u001B[43mm\u001B[49m\u001B[43m \u001B[49m\u001B[38;5;241;43m%\u001B[39;49m\u001B[43m \u001B[49m\u001B[43mn\u001B[49m\n\u001B[1;32m      5\u001B[0m     \u001B[38;5;28;01mif\u001B[39;00m s \u001B[38;5;241m==\u001B[39m signature:\n\u001B[1;32m      6\u001B[0m         \u001B[38;5;28mprint\u001B[39m(d)\n",
      "\u001B[0;31mKeyboardInterrupt\u001B[0m: "
     ]
    }
   ],
   "source": [
    "from tqdm import tqdm\n",
    "s = m\n",
    "for d in tqdm(range(1000000000)):\n",
    "    s = s*m % n\n",
    "    if s == signature:\n",
    "        print(d)\n"
   ]
  },
  {
   "cell_type": "code",
   "execution_count": 53,
   "id": "2c1ee0ce",
   "metadata": {
    "pycharm": {
     "name": "#%%\n"
    }
   },
   "outputs": [],
   "source": [
    "u = b'# This is a demo script. It doesn\\'t do much, but I like it. You can use it too if you want :D\\n\\nprint(\"Hello, CTF player!\")'"
   ]
  },
  {
   "cell_type": "code",
   "execution_count": 54,
   "id": "539a5533",
   "metadata": {
    "pycharm": {
     "name": "#%%\n"
    }
   },
   "outputs": [
    {
     "data": {
      "text/plain": [
       "1235738"
      ]
     },
     "execution_count": 54,
     "metadata": {},
     "output_type": "execute_result"
    }
   ],
   "source": [
    "sum(u)*len(u)"
   ]
  },
  {
   "cell_type": "code",
   "execution_count": 55,
   "id": "0834d63c",
   "metadata": {
    "pycharm": {
     "name": "#%%\n"
    }
   },
   "outputs": [
    {
     "data": {
      "text/plain": [
       "'00000000000000000000000000000000000000000000000000000000000000000000000000000000000000000000000000000000000000000000000000'"
      ]
     },
     "execution_count": 55,
     "metadata": {},
     "output_type": "execute_result"
    }
   ],
   "source": [
    "\"0\"*len(u)\n"
   ]
  },
  {
   "cell_type": "code",
   "execution_count": 103,
   "id": "5c17a2f3",
   "metadata": {
    "pycharm": {
     "name": "#%%\n"
    }
   },
   "outputs": [],
   "source": [
    "v = b'print(open(\"flag.txt\", \"r\").read()) #zzzzzzzzzzzzzzzzzzzzzzzzzzzzzzzzzzzzzzzzzz`000000000000000000000000000000000000000000'\n"
   ]
  },
  {
   "cell_type": "code",
   "execution_count": 104,
   "id": "c782078f",
   "metadata": {
    "pycharm": {
     "name": "#%%\n"
    }
   },
   "outputs": [
    {
     "data": {
      "text/plain": [
       "(1235738, 122)"
      ]
     },
     "execution_count": 104,
     "metadata": {},
     "output_type": "execute_result"
    }
   ],
   "source": [
    "sum(v)*len(v), len(v)"
   ]
  },
  {
   "cell_type": "code",
   "execution_count": 70,
   "id": "26ac00f3",
   "metadata": {
    "pycharm": {
     "name": "#%%\n"
    }
   },
   "outputs": [
    {
     "name": "stdout",
     "output_type": "stream",
     "text": [
      "404CTF{This is test flag}\n",
      "\n"
     ]
    }
   ],
   "source": [
    "exec('print(open(\"flag.txt\", \"r\").read()) #0000000000000000000000000000000000000000000000000000000000000000000000000000000000000')"
   ]
  },
  {
   "cell_type": "code",
   "execution_count": null,
   "id": "976a26a4",
   "metadata": {
    "pycharm": {
     "name": "#%%\n"
    }
   },
   "outputs": [],
   "source": [
    "AVpTaWcCAAAAAAAAAAAAAAAAAAAAAAAAAAAAAAAAAAAAAAAAAAAAAAAAAAAAAAAAAAAA28PjfBE7saFl5OLzbCpAbI+sXlK3fpUSFH5K6oXBMFo5yN8OeTeIhdGZyELGoga6BKprc7B4L6FxQkKRsQ53tROJeqEZtAC7UZNhZAjqSSntfyOAvDyCnfOoMs1HF2QoWoIsnHXZ+E9bbBjJEIe1JgLD2bYORSjUaO342dMBoJhOmipCDQUnfwxtxO5jhu0eUJvyH1bVT9ZU0K1NxHWCWR1s/P6L80f0MuCjII6kVVcU+M47ySSKocNcQP+obVonXLV7L52a9eUk9NtViTgst5KIkAE3TCLUK1Yt1/DnM8F7s32PyrOWgMDJ2f4q/UweoiyqPoPk63BQkhEWTnc+AwAAAHoEcHJpbnQob3BlbigiZmxhZy50eHQiLCJyIiApLnJlYWQoKSkgI3p6enp6enp6enp6enp6enp6enp6enp6enp6enp6enp6enp6enp6enp6emAwMDAwMDAwMDAwMDAwMDAwMDAwMDAwMDAwMDAwMDAwMDAwMDAwMDAwMDA="
   ]
  }
 ],
 "metadata": {
  "kernelspec": {
   "display_name": "Python 3 (ipykernel)",
   "language": "python",
   "name": "python3"
  },
  "language_info": {
   "codemirror_mode": {
    "name": "ipython",
    "version": 3
   },
   "file_extension": ".py",
   "mimetype": "text/x-python",
   "name": "python",
   "nbconvert_exporter": "python",
   "pygments_lexer": "ipython3",
   "version": "3.9.12"
  }
 },
 "nbformat": 4,
 "nbformat_minor": 5
}