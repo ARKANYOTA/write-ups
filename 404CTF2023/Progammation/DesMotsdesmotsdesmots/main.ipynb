{
 "cells": [
  {
   "cell_type": "code",
   "execution_count": 82,
   "id": "c017e1ce",
   "metadata": {},
   "outputs": [],
   "source": [
    "a = \"cosette\""
   ]
  },
  {
   "cell_type": "code",
   "execution_count": 83,
   "id": "1a36b56c",
   "metadata": {},
   "outputs": [],
   "source": [
    "def et1(w):\n",
    "    return w[::-1]"
   ]
  },
  {
   "cell_type": "code",
   "execution_count": 84,
   "id": "02808d16",
   "metadata": {},
   "outputs": [
    {
     "data": {
      "text/plain": [
       "'ettesoc'"
      ]
     },
     "execution_count": 84,
     "metadata": {},
     "output_type": "execute_result"
    }
   ],
   "source": [
    "a = et1(a)\n",
    "a"
   ]
  },
  {
   "cell_type": "code",
   "execution_count": 85,
   "id": "4692bcd0",
   "metadata": {},
   "outputs": [],
   "source": [
    "def et2(w):\n",
    "    if len(w)%2==0:\n",
    "        return w[len(w)//2:] + w[:len(w)//2]\n",
    "    central_letter = w[len(w)//2]\n",
    "    return w.replace(central_letter,\"\")"
   ]
  },
  {
   "cell_type": "code",
   "execution_count": 86,
   "id": "483c85b0",
   "metadata": {},
   "outputs": [
    {
     "data": {
      "text/plain": [
       "'ttsoc'"
      ]
     },
     "execution_count": 86,
     "metadata": {},
     "output_type": "execute_result"
    }
   ],
   "source": [
    "a = et2(a)\n",
    "a"
   ]
  },
  {
   "cell_type": "code",
   "execution_count": 102,
   "id": "46d8f57c",
   "metadata": {},
   "outputs": [],
   "source": [
    "def supprimer_consonnes(tableau):\n",
    "    voyelles = \"aeiouy\"\n",
    "    resultat = [c for c in tableau if c.lower() in voyelles]\n",
    "    return resultat\n",
    "\n",
    "def rotation_droite(w):\n",
    "    return [w[-1]]+w[0:-1]\n",
    "\n",
    "def rotation_gauche(w):\n",
    "    return w[1:]+[w[0]]\n",
    "\n",
    "def et3(w):\n",
    "    w = list(w)\n",
    "    if len(w) >= 3:\n",
    "        voyelles = supprimer_consonnes(w)\n",
    "        \n",
    "        if not w[2] in \"aeiouy\":\n",
    "            voyelles = rotation_gauche(voyelles)\n",
    "        else:\n",
    "            voyelles = rotation_droite(voyelles)\n",
    "        print(w, voyelles)\n",
    "        index = 0\n",
    "        for i in range(len(w)):\n",
    "            if w[i] in  \"aeiouy\":\n",
    "                w[i] = voyelles[index]\n",
    "                index+=1\n",
    "        \n",
    "    return \"\".join(w)"
   ]
  },
  {
   "cell_type": "code",
   "execution_count": 103,
   "id": "1c8c4156",
   "metadata": {},
   "outputs": [
    {
     "name": "stdout",
     "output_type": "stream",
     "text": [
      "[2, 3, 4, 1]\n",
      "[4, 1, 2, 3]\n"
     ]
    }
   ],
   "source": [
    "print(rotation_gauche([1,2,3,4]))\n",
    "print(rotation_droite([1,2,3,4]))"
   ]
  },
  {
   "cell_type": "code",
   "execution_count": 108,
   "id": "1755ddd8",
   "metadata": {},
   "outputs": [
    {
     "name": "stdout",
     "output_type": "stream",
     "text": [
      "['t', 't', 's', 'o', 'c'] ['o']\n",
      "ttsoc\n"
     ]
    },
    {
     "data": {
      "text/plain": [
       "'cott'"
      ]
     },
     "execution_count": 108,
     "metadata": {},
     "output_type": "execute_result"
    }
   ],
   "source": [
    "a = et3(\"ttsoc\")\n",
    "print(a)\n",
    "a = et2(et1(a))\n",
    "a"
   ]
  },
  {
   "cell_type": "code",
   "execution_count": null,
   "id": "938f7143",
   "metadata": {},
   "outputs": [],
   "source": [
    "ottsc\n",
    "\n",
    "cosette\n",
    "ettesoc\n",
    "ttsoc\n",
    "ottsc\n",
    "PPtt!15QRUWcos\n"
   ]
  },
  {
   "cell_type": "code",
   "execution_count": 32,
   "id": "73cb058a",
   "metadata": {},
   "outputs": [
    {
     "name": "stdout",
     "output_type": "stream",
     "text": [
      "pitayo\n",
      "drepiey\n"
     ]
    }
   ],
   "source": [
    "def decaler_voyelles(mot):\n",
    "    if len(mot) >= 3:\n",
    "        voyelles = \"aeiouy\"\n",
    "        consonnes = \"bcdfghjklmnpqrstvwxz\"\n",
    "        troisieme_lettre = mot[2]\n",
    "        if troisieme_lettre in consonnes:\n",
    "            # Décalage des voyelles vers la gauche\n",
    "            mot_decale = \"\"\n",
    "            for lettre in mot:\n",
    "                if lettre in voyelles:\n",
    "                    index = voyelles.index(lettre)\n",
    "                    mot_decale += voyelles[(index - 1) % len(voyelles)]\n",
    "                else:\n",
    "                    mot_decale += lettre\n",
    "        else:\n",
    "            # Décalage des voyelles vers la droite\n",
    "            mot_decale = \"\"\n",
    "            for lettre in mot:\n",
    "                if lettre in voyelles:\n",
    "                    index = voyelles.index(lettre)\n",
    "                    mot_decale += voyelles[(index + 1) % len(voyelles)]\n",
    "                else:\n",
    "                    mot_decale += lettre\n",
    "        return mot_decale\n",
    "    else:\n",
    "        return mot\n",
    "\n",
    "# Exemples d'utilisation\n",
    "mot1 = \"poteau\"\n",
    "mot2 = \"drapeau\"\n",
    "\n",
    "resultat1 = decaler_voyelles(mot1)\n",
    "resultat2 = decaler_voyelles(mot2)\n",
    "\n",
    "print(resultat1)  # Affiche \"petauo\"\n",
    "print(resultat2)  # Affiche \"drupaea\"\n"
   ]
  },
  {
   "cell_type": "code",
   "execution_count": 54,
   "id": "e211a5e1",
   "metadata": {},
   "outputs": [],
   "source": [
    "def insert_consonant_characters(word):\n",
    "    vowels = 'AEIOUaeiou'\n",
    "    new_word = ''\n",
    "\n",
    "    for n in range(len(word)):\n",
    "        c = word[n]\n",
    "        new_word += c\n",
    "\n",
    "        if c.isalpha() and c not in vowels:\n",
    "            if n > 0:\n",
    "                vp = ord(word[n-1])\n",
    "                s = sum([ord(word[i]) * 2**(n-i) * int(word[i] in vowels) for i in range(n-1, -1, -1)])\n",
    "                a = ((vp + s) % 95) + 32\n",
    "                new_word += chr(a)\n",
    "\n",
    "    return new_word\n"
   ]
  },
  {
   "cell_type": "code",
   "execution_count": 55,
   "id": "397eec87",
   "metadata": {},
   "outputs": [
    {
     "data": {
      "text/plain": [
       "'futburT'"
      ]
     },
     "execution_count": 55,
     "metadata": {},
     "output_type": "execute_result"
    }
   ],
   "source": [
    "insert_consonant_characters(\"futur\")"
   ]
  },
  {
   "cell_type": "markdown",
   "id": "1426f753",
   "metadata": {},
   "source": [
    "_Si le mot a 3 lettres ou plus_ :\n",
    "\n",
    "- Si la 3e lettre du mot obtenu est une consonne, \"décaler\" les voyelles vers la gauche dans le mot original, puis réappliquer les règles 1 et 2.\n",
    "- Sinon : la même chose mais les décaler vers la droite.\n",
    "\n",
    "> Ex de décalage : _poteau => petauo_ // _drapeau => drupaea_\n",
    "Entrée : {cosette}\n",
    ">> Nous avons presque fini, la quatrième règle est la plus complexe."
   ]
  },
  {
   "cell_type": "code",
   "execution_count": null,
   "id": "b0e34d32",
   "metadata": {},
   "outputs": [],
   "source": []
  }
 ],
 "metadata": {
  "kernelspec": {
   "display_name": "Python 3 (ipykernel)",
   "language": "python",
   "name": "python3"
  },
  "language_info": {
   "codemirror_mode": {
    "name": "ipython",
    "version": 3
   },
   "file_extension": ".py",
   "mimetype": "text/x-python",
   "name": "python",
   "nbconvert_exporter": "python",
   "pygments_lexer": "ipython3",
   "version": "3.11.3"
  }
 },
 "nbformat": 4,
 "nbformat_minor": 5
}
