{
 "cells": [
  {
   "cell_type": "code",
   "execution_count": 45,
   "id": "c017e1ce",
   "metadata": {},
   "outputs": [],
   "source": [
    "a = \"cosette\""
   ]
  },
  {
   "cell_type": "code",
   "execution_count": 46,
   "id": "1a36b56c",
   "metadata": {},
   "outputs": [],
   "source": [
    "def et1(w):\n",
    "    return w[::-1]"
   ]
  },
  {
   "cell_type": "code",
   "execution_count": 47,
   "id": "02808d16",
   "metadata": {},
   "outputs": [
    {
     "data": {
      "text/plain": [
       "'ettesoc'"
      ]
     },
     "execution_count": 47,
     "metadata": {},
     "output_type": "execute_result"
    }
   ],
   "source": [
    "a = et1(a)\n",
    "a"
   ]
  },
  {
   "cell_type": "code",
   "execution_count": 48,
   "id": "4692bcd0",
   "metadata": {},
   "outputs": [],
   "source": [
    "def et2(w):\n",
    "    if len(w)%2==0:\n",
    "        return w[len(w)//2:] + w[:len(w)//2]\n",
    "    central_letter = w[len(w)//2]\n",
    "    return w.replace(central_letter,\"\")"
   ]
  },
  {
   "cell_type": "code",
   "execution_count": 49,
   "id": "483c85b0",
   "metadata": {},
   "outputs": [
    {
     "data": {
      "text/plain": [
       "'ttsoc'"
      ]
     },
     "execution_count": 49,
     "metadata": {},
     "output_type": "execute_result"
    }
   ],
   "source": [
    "a = et2(a)\n",
    "a"
   ]
  },
  {
   "cell_type": "code",
   "execution_count": 34,
   "id": "46d8f57c",
   "metadata": {},
   "outputs": [],
   "source": [
    "def et3(w):\n",
    "    if len(w)>=3 and w[3] in \"aeiouy\":\n",
    "        return et1(et2(w[1:]+w[0]))\n",
    "    return et1(et2(w[-1]+w[:-1]))\n",
    "\n",
    "        \n",
    "        "
   ]
  },
  {
   "cell_type": "code",
   "execution_count": 35,
   "id": "1755ddd8",
   "metadata": {},
   "outputs": [
    {
     "data": {
      "text/plain": [
       "'tcst'"
      ]
     },
     "execution_count": 35,
     "metadata": {},
     "output_type": "execute_result"
    }
   ],
   "source": [
    "a = et3(a)\n",
    "a"
   ]
  },
  {
   "cell_type": "code",
   "execution_count": null,
   "id": "938f7143",
   "metadata": {},
   "outputs": [],
   "source": [
    "ottsc\n",
    "\n",
    "cosette\n",
    "ettesoc\n",
    "ttsoc\n",
    "ottsc"
   ]
  }
 ],
 "metadata": {
  "kernelspec": {
   "display_name": "Python 3 (ipykernel)",
   "language": "python",
   "name": "python3"
  },
  "language_info": {
   "codemirror_mode": {
    "name": "ipython",
    "version": 3
   },
   "file_extension": ".py",
   "mimetype": "text/x-python",
   "name": "python",
   "nbconvert_exporter": "python",
   "pygments_lexer": "ipython3",
   "version": "3.11.3"
  }
 },
 "nbformat": 4,
 "nbformat_minor": 5
}
