{
 "cells": [
  {
   "cell_type": "code",
   "execution_count": 9,
   "id": "a5a320fa",
   "metadata": {},
   "outputs": [],
   "source": [
    "R1 = \\\n",
    "    (\"I\",\n",
    "     'EKMFLGDQVZNTOWYHXUSPAIBRCJ',\n",
    "     ['Q'])\n",
    "R2 = \\\n",
    "    (\"II\",\n",
    "     'AJDKSIRUXBLHWTMCQGZNPYFVOE',\n",
    "     ['E'])\n",
    "R3 = \\\n",
    "    (\"III\",\n",
    "     'BDFHJLCPRTXVZNYEIWGAKMUSQO',\n",
    "     ['V'])\n",
    "R4 = \\\n",
    "    (\"IV\",\n",
    "     'ESOVPZJAYQUIRHXLNFTGKDCMWB',\n",
    "     ['J'])\n",
    "R5 = \\\n",
    "    (\"V\",\n",
    "     'VZBRGITYUPSDNHLXAWMJQOFECK',\n",
    "     ['Z'])\n"
   ]
  },
  {
   "cell_type": "code",
   "execution_count": 10,
   "id": "6a45b514",
   "metadata": {},
   "outputs": [
    {
     "ename": "NameError",
     "evalue": "name 'B' is not defined",
     "output_type": "error",
     "traceback": [
      "\u001b[0;31m---------------------------------------------------------------------------\u001b[0m",
      "\u001b[0;31mNameError\u001b[0m                                 Traceback (most recent call last)",
      "Cell \u001b[0;32mIn[10], line 58\u001b[0m\n\u001b[1;32m     54\u001b[0m                         \u001b[38;5;28;01mif\u001b[39;00m current \u001b[38;5;241m>\u001b[39m limit_int:\n\u001b[1;32m     55\u001b[0m                             \u001b[38;5;28mprint\u001b[39m(\u001b[38;5;28mfloat\u001b[39m(current)\u001b[38;5;241m/\u001b[39mN2, reflector, left_rotor_type[\u001b[38;5;241m0\u001b[39m], middle_rotor_type[\u001b[38;5;241m0\u001b[39m], right_rotor_type[\u001b[38;5;241m0\u001b[39m], letters)\n\u001b[0;32m---> 58\u001b[0m \u001b[43mall_configs\u001b[49m\u001b[43m(\u001b[49m\u001b[43m)\u001b[49m\n",
      "Cell \u001b[0;32mIn[10], line 39\u001b[0m, in \u001b[0;36mall_configs\u001b[0;34m()\u001b[0m\n\u001b[1;32m     37\u001b[0m \u001b[38;5;28;01mdef\u001b[39;00m \u001b[38;5;21mall_configs\u001b[39m():\n\u001b[1;32m     38\u001b[0m     rotors \u001b[38;5;241m=\u001b[39m [R1, R2, R3, R4, R5]\n\u001b[0;32m---> 39\u001b[0m     reflectors \u001b[38;5;241m=\u001b[39m [\u001b[43mB\u001b[49m, C]\n\u001b[1;32m     41\u001b[0m     \u001b[38;5;28;01mfor\u001b[39;00m reflector \u001b[38;5;129;01min\u001b[39;00m [reflectors[\u001b[38;5;241m0\u001b[39m]]:\n\u001b[1;32m     42\u001b[0m         \u001b[38;5;28;01mfor\u001b[39;00m left_rotor_type \u001b[38;5;129;01min\u001b[39;00m [rotors[\u001b[38;5;241m3\u001b[39m]]:\n",
      "\u001b[0;31mNameError\u001b[0m: name 'B' is not defined"
     ]
    }
   ],
   "source": [
    "#https://github.com/apoirrier/CTFs-writeups/blob/master/404CTF2022/Crypto/Enigma.md\n",
    "from enigma import *\n",
    "import itertools\n",
    "\n",
    "TEXT = \"\"\n",
    "TEXT = \"hjamzhdreogv\" # Pour accélerer le calcul, je ne prends que les 500 premiers caractères, ce qui est probablement largement suffisant pour l'indice de coïncidence\n",
    "limit = 0.045 # Je ne prends que les solutions ayant un indice de coïncidence plus élevé.\n",
    "N2 = float(len(TEXT) * (len(TEXT) - 1))\n",
    "limit_int = int(limit*N2)\n",
    "\n",
    "def coincidence(text):\n",
    "    occurences = [0] * 26\n",
    "    for c in text:\n",
    "        occurences[ord(c) - ord('A')]+=1\n",
    "    n = 0\n",
    "    for x in occurences:\n",
    "        n += x*(x-1)\n",
    "    return n\n",
    "\n",
    "# La fonction suivante décrypte le message avec les paramètres donnés en argument et retourne l'indice de coïncidence\n",
    "def test_config(reflector_type, left_rotor_type, middle_rotor_type, right_rotor_type,\n",
    "                left_rotor_config, middle_rotor_config, right_rotor_config,\n",
    "\t\t\t    left_rotor_initial, middle_rotor_initial, right_rotor_initial, plugboard):\n",
    "    \n",
    "    l_rotor = Rotor(left_rotor_type, left_rotor_config, left_rotor_initial)\n",
    "    m_rotor = Rotor(middle_rotor_type, middle_rotor_config, middle_rotor_initial)\n",
    "    r_rotor = Rotor(right_rotor_type, right_rotor_config, right_rotor_initial)\n",
    "\n",
    "    ref = Reflector(reflector_type)\n",
    "\n",
    "    plug = Plugboard(plugboard)\n",
    "\n",
    "    e = Enigma(l_rotor, m_rotor, r_rotor, ref, plug)\n",
    "    c = e.encrypt(TEXT)\n",
    "    return coincidence(c)\n",
    "\n",
    "# Test de toutes les configurations\n",
    "def all_configs():\n",
    "    rotors = [R1, R2, R3, R4, R5]\n",
    "    reflectors = [B, C]\n",
    "\n",
    "    for reflector in [reflectors[0]]:\n",
    "        for left_rotor_type in [rotors[3]]:\n",
    "            for middle_rotor_type in rotors:\n",
    "                if left_rotor_type == middle_rotor_type:\n",
    "                    continue\n",
    "                for right_rotor_type in rotors:\n",
    "                    if left_rotor_type == right_rotor_type or middle_rotor_type == right_rotor_type:\n",
    "                        continue\n",
    "                    print(\"Configuration:\", left_rotor_type[0], middle_rotor_type[0], right_rotor_type[0])\n",
    "                    for letters in itertools.product(alphabet, repeat=3):\n",
    "                        current = test_config(reflector, left_rotor_type, middle_rotor_type, right_rotor_type,\n",
    "                                              letters[0], letters[1], letters[2],\n",
    "                                              left_rotor_type[2][0], middle_rotor_type[2][0], right_rotor_type[2][0], \"\")\n",
    "                        if current > limit_int:\n",
    "                            print(float(current)/N2, reflector, left_rotor_type[0], middle_rotor_type[0], right_rotor_type[0], letters)\n",
    "\n",
    "\n",
    "all_configs()\n"
   ]
  },
  {
   "cell_type": "code",
   "execution_count": null,
   "id": "76df594a",
   "metadata": {},
   "outputs": [],
   "source": []
  },
  {
   "cell_type": "code",
   "execution_count": 17,
   "id": "7c0ff455",
   "metadata": {},
   "outputs": [],
   "source": [
    "from pyenigma import enigma\n",
    "from pyenigma import rotor\n",
    "import itertools\n",
    "\n"
   ]
  },
  {
   "cell_type": "code",
   "execution_count": 18,
   "id": "ade4e645",
   "metadata": {},
   "outputs": [],
   "source": [
    "R1 = rotor.ROTOR_I\n",
    "R2 = rotor.ROTOR_II\n",
    "R3 = rotor.ROTOR_III\n",
    "R4 = rotor.ROTOR_IV\n",
    "R5 = rotor.ROTOR_V\n",
    "\n",
    "A = rotor.ROTOR_Reflector_A\n",
    "B = rotor.ROTOR_Reflector_B\n",
    "C = rotor.ROTOR_Reflector_C"
   ]
  },
  {
   "cell_type": "code",
   "execution_count": 19,
   "id": "f468607a",
   "metadata": {},
   "outputs": [],
   "source": [
    "engine = enigma.Enigma(B, R1, R2, R3, key=\"ahd\",plugs=\"\")"
   ]
  },
  {
   "cell_type": "code",
   "execution_count": 13,
   "id": "a19986d7",
   "metadata": {},
   "outputs": [
    {
     "name": "stdout",
     "output_type": "stream",
     "text": [
      "\n",
      "        Reflector: \n",
      "        Name: Reflector B\n",
      "        Model: None\n",
      "        Date: None\n",
      "        Wiring: YRUHQSLDPXNGOKMIEBFZCWVJAT\n",
      "\n",
      "        Rotor 1: \n",
      "        Name: I\n",
      "        Model: Enigma 1\n",
      "        Date: 1930\n",
      "        Wiring: EKMFLGDQVZNTOWYHXUSPAIBRCJ\n",
      "        State: a\n",
      "\n",
      "        Rotor 2: \n",
      "        Name: II\n",
      "        Model: Enigma 1\n",
      "        Date: 1930\n",
      "        Wiring: AJDKSIRUXBLHWTMCQGZNPYFVOE\n",
      "        State: h\n",
      "\n",
      "        Rotor 3: \n",
      "        Name: III\n",
      "        Model: Enigma 1\n",
      "        Date: 1930\n",
      "        Wiring: BDFHJLCPRTXVZNYEIWGAKMUSQO\n",
      "        State: d\n"
     ]
    }
   ],
   "source": [
    "print(engine)"
   ]
  },
  {
   "cell_type": "code",
   "execution_count": 14,
   "id": "bfe9e80a",
   "metadata": {},
   "outputs": [],
   "source": [
    "secret = engine.encipher(\"cordialement\")"
   ]
  },
  {
   "cell_type": "code",
   "execution_count": 15,
   "id": "967a0fca",
   "metadata": {},
   "outputs": [
    {
     "data": {
      "text/plain": [
       "'wwoztlwybxbk'"
      ]
     },
     "execution_count": 15,
     "metadata": {},
     "output_type": "execute_result"
    }
   ],
   "source": [
    "secret"
   ]
  },
  {
   "cell_type": "code",
   "execution_count": 22,
   "id": "2761ffa6",
   "metadata": {},
   "outputs": [],
   "source": [
    "alphabet = \"abcdefghijklmnopqrstuvwxyz\"\n"
   ]
  },
  {
   "cell_type": "code",
   "execution_count": null,
   "id": "5e40d0b1",
   "metadata": {},
   "outputs": [],
   "source": [
    "[rotor.ROTOR_Beta,rotor.ROTOR_ETW,rotor.ROTOR_ETW_K,rotor.ROTOR_GR_ETW,rotor.ROTOR_GR_I,rotor.ROTOR_GR_II,rotor.ROTOR_GR_III,rotor.ROT    OR_GR_UKW,rotor.ROTOR_Gamma,rotor.ROTOR_I,rotor.ROTOR_IC,rotor.ROTOR_II,rotor.ROTOR_IIC,rotor.ROTOR_III,rotor.ROTOR_IIIC,rotor.ROTOR_III_K,rotor.ROTOR_II_K,rotor.ROTOR_IV,rotor.ROTOR_I_K,rotor.ROTOR_Reflector_A,rotor.ROTOR_Reflector_B,rotor.ROTOR_Reflector_B_Thin,rotor.ROTOR_Reflector_C,rotor.ROTOR_Reflector_C_Thin,rotor.ROTOR_UKW_K,rotor.ROTOR_V,rotor.ROTOR_VI,rotor.ROTOR_VII,rotor.ROTOR_VIII]"
   ]
  },
  {
   "cell_type": "code",
   "execution_count": 23,
   "id": "3d96af72",
   "metadata": {},
   "outputs": [],
   "source": [
    "def test_config(reflector_type, left_rotor_type, middle_rotor_type, right_rotor_type, key):\n",
    "    \n",
    "    en = enigma.Enigma(reflector_type, left_rotor_type, middle_rotor_type, right_rotor_type, key=key, plugs=\"\")\n",
    "    \n",
    "    return en.encipher(\"hjamzhdreogv\")"
   ]
  },
  {
   "cell_type": "code",
   "execution_count": 38,
   "id": "11286c88",
   "metadata": {},
   "outputs": [
    {
     "name": "stdout",
     "output_type": "stream",
     "text": [
      "\n",
      "        Name: Reflector A\n",
      "        Model: None\n",
      "        Date: None\n",
      "        Wiring: EJMZALYXVBWFCRQUONTSPIKHGD \n",
      "        Name: II\n",
      "        Model: Enigma 1\n",
      "        Date: 1930\n",
      "        Wiring: AJDKSIRUXBLHWTMCQGZNPYFVOE\n",
      "        State: Z \n",
      "        Name: I\n",
      "        Model: Enigma 1\n",
      "        Date: 1930\n",
      "        Wiring: EKMFLGDQVZNTOWYHXUSPAIBRCJ\n",
      "        State: h \n",
      "        Name: IV\n",
      "        Model: M3 Army\n",
      "        Date: December 1938\n",
      "        Wiring: ESOVPZJAYQUIRHXLNFTGKDCMWB\n",
      "        State: k\n"
     ]
    }
   ],
   "source": [
    "def all_configs():\n",
    "    rotors = [R1, R2, R3, R4, R5]\n",
    "    reflectors = [A, B, C]\n",
    "    reflectors = [rotor.ROTOR_Reflector_A,rotor.ROTOR_Reflector_B,rotor.ROTOR_Reflector_B_Thin,rotor.ROTOR_Reflector_C,rotor.ROTOR_Reflector_C_Thin]\n",
    "    try:\n",
    "        for reflector in reflectors:\n",
    "            for left_rotor_type in rotors:\n",
    "                for middle_rotor_type in rotors:\n",
    "                    if left_rotor_type == middle_rotor_type:\n",
    "                        continue\n",
    "                    for right_rotor_type in rotors:\n",
    "                        if left_rotor_type == right_rotor_type or middle_rotor_type == right_rotor_type:\n",
    "                            continue\n",
    "                        for letters in itertools.product(alphabet, repeat=3):\n",
    "                            current = test_config(reflector, left_rotor_type, middle_rotor_type, right_rotor_type, \"\".join(letters))\n",
    "                            if current == \"cordialement\":\n",
    "                                print(left_rotor_type.name, middle_rotor_type.name, right_rotor_type.name, \"\".join(letters))\n",
    "    except:\n",
    "        print(reflector, left_rotor_type, middle_rotor_type, right_rotor_type)\n",
    "all_configs()\n"
   ]
  },
  {
   "cell_type": "code",
   "execution_count": 41,
   "id": "212a0fe8",
   "metadata": {},
   "outputs": [
    {
     "name": "stdout",
     "output_type": "stream",
     "text": [
      "46.4 ns ± 0.327 ns per loop (mean ± std. dev. of 7 runs, 10,000,000 loops each)\n"
     ]
    }
   ],
   "source": [
    "%%timeit\n",
    "a = ('z', 'y', 't')\n",
    "\"\".join(a)"
   ]
  },
  {
   "cell_type": "code",
   "execution_count": 45,
   "id": "6fa3492c",
   "metadata": {},
   "outputs": [
    {
     "data": {
      "text/plain": [
       "'I'"
      ]
     },
     "execution_count": 45,
     "metadata": {},
     "output_type": "execute_result"
    }
   ],
   "source": [
    "R1.name"
   ]
  },
  {
   "cell_type": "code",
   "execution_count": 28,
   "id": "d546f904",
   "metadata": {},
   "outputs": [
    {
     "name": "stdout",
     "output_type": "stream",
     "text": [
      "Help on module pyenigma.rotor in pyenigma:\n",
      "\n",
      "NAME\n",
      "    pyenigma.rotor - #-*- coding: utf-8 -*-\n",
      "\n",
      "CLASSES\n",
      "    builtins.object\n",
      "        Reflector\n",
      "        Rotor\n",
      "    \n",
      "    class Reflector(builtins.object)\n",
      "     |  Reflector(wiring=None, name=None, model=None, date=None)\n",
      "     |  \n",
      "     |  Represents a reflector.\n",
      "     |  \n",
      "     |  Methods defined here:\n",
      "     |  \n",
      "     |  __eq__(self, rotor)\n",
      "     |      Return self==value.\n",
      "     |  \n",
      "     |  __init__(self, wiring=None, name=None, model=None, date=None)\n",
      "     |      Initialize self.  See help(type(self)) for accurate signature.\n",
      "     |  \n",
      "     |  __setattr__(self, name, value)\n",
      "     |      Implement setattr(self, name, value).\n",
      "     |  \n",
      "     |  __str__(self)\n",
      "     |      Pretty display.\n",
      "     |  \n",
      "     |  encipher(self, key)\n",
      "     |  \n",
      "     |  ----------------------------------------------------------------------\n",
      "     |  Data descriptors defined here:\n",
      "     |  \n",
      "     |  __dict__\n",
      "     |      dictionary for instance variables (if defined)\n",
      "     |  \n",
      "     |  __weakref__\n",
      "     |      list of weak references to the object (if defined)\n",
      "     |  \n",
      "     |  ----------------------------------------------------------------------\n",
      "     |  Data and other attributes defined here:\n",
      "     |  \n",
      "     |  __hash__ = None\n",
      "    \n",
      "    class Rotor(builtins.object)\n",
      "     |  Rotor(wiring=None, notchs=None, name=None, model=None, date=None, state='A', ring='A')\n",
      "     |  \n",
      "     |  Represents a rotor.\n",
      "     |  \n",
      "     |  Methods defined here:\n",
      "     |  \n",
      "     |  __eq__(self, rotor)\n",
      "     |      Return self==value.\n",
      "     |  \n",
      "     |  __init__(self, wiring=None, notchs=None, name=None, model=None, date=None, state='A', ring='A')\n",
      "     |      Initialization of the rotor.\n",
      "     |  \n",
      "     |  __setattr__(self, name, value)\n",
      "     |      Implement setattr(self, name, value).\n",
      "     |  \n",
      "     |  __str__(self)\n",
      "     |      Pretty display.\n",
      "     |  \n",
      "     |  encipher_left(self, key)\n",
      "     |  \n",
      "     |  encipher_right(self, key)\n",
      "     |  \n",
      "     |  is_in_turnover_pos(self)\n",
      "     |  \n",
      "     |  notch(self, offset=1)\n",
      "     |  \n",
      "     |  ----------------------------------------------------------------------\n",
      "     |  Data descriptors defined here:\n",
      "     |  \n",
      "     |  __dict__\n",
      "     |      dictionary for instance variables (if defined)\n",
      "     |  \n",
      "     |  __weakref__\n",
      "     |      list of weak references to the object (if defined)\n",
      "     |  \n",
      "     |  ----------------------------------------------------------------------\n",
      "     |  Data and other attributes defined here:\n",
      "     |  \n",
      "     |  __hash__ = None\n",
      "\n",
      "DATA\n",
      "    ROTOR_Beta = <pyenigma.rotor.Rotor object>\n",
      "    ROTOR_ETW = <pyenigma.rotor.Rotor object>\n",
      "    ROTOR_ETW_K = <pyenigma.rotor.Rotor object>\n",
      "    ROTOR_GR_ETW = <pyenigma.rotor.Rotor object>\n",
      "    ROTOR_GR_I = <pyenigma.rotor.Rotor object>\n",
      "    ROTOR_GR_II = <pyenigma.rotor.Rotor object>\n",
      "    ROTOR_GR_III = <pyenigma.rotor.Rotor object>\n",
      "    ROTOR_GR_UKW = <pyenigma.rotor.Reflector object>\n",
      "    ROTOR_Gamma = <pyenigma.rotor.Rotor object>\n",
      "    ROTOR_I = <pyenigma.rotor.Rotor object>\n",
      "    ROTOR_IC = <pyenigma.rotor.Rotor object>\n",
      "    ROTOR_II = <pyenigma.rotor.Rotor object>\n",
      "    ROTOR_IIC = <pyenigma.rotor.Rotor object>\n",
      "    ROTOR_III = <pyenigma.rotor.Rotor object>\n",
      "    ROTOR_IIIC = <pyenigma.rotor.Rotor object>\n",
      "    ROTOR_III_K = <pyenigma.rotor.Rotor object>\n",
      "    ROTOR_II_K = <pyenigma.rotor.Rotor object>\n",
      "    ROTOR_IV = <pyenigma.rotor.Rotor object>\n",
      "    ROTOR_I_K = <pyenigma.rotor.Rotor object>\n",
      "    ROTOR_Reflector_A = <pyenigma.rotor.Reflector object>\n",
      "    ROTOR_Reflector_B = <pyenigma.rotor.Reflector object>\n",
      "    ROTOR_Reflector_B_Thin = <pyenigma.rotor.Reflector object>\n",
      "    ROTOR_Reflector_C = <pyenigma.rotor.Reflector object>\n",
      "    ROTOR_Reflector_C_Thin = <pyenigma.rotor.Reflector object>\n",
      "    ROTOR_UKW_K = <pyenigma.rotor.Reflector object>\n",
      "    ROTOR_V = <pyenigma.rotor.Rotor object>\n",
      "    ROTOR_VI = <pyenigma.rotor.Rotor object>\n",
      "    ROTOR_VII = <pyenigma.rotor.Rotor object>\n",
      "    ROTOR_VIII = <pyenigma.rotor.Rotor object>\n",
      "\n",
      "FILE\n",
      "    /opt/homebrew/lib/python3.11/site-packages/pyenigma/rotor.py\n",
      "\n",
      "\n"
     ]
    }
   ],
   "source": [
    "help(rotor)"
   ]
  },
  {
   "cell_type": "code",
   "execution_count": 31,
   "id": "b4b8900c",
   "metadata": {},
   "outputs": [
    {
     "name": "stdout",
     "output_type": "stream",
     "text": [
      "\n",
      "        Name: Reflector_C_Thin\n",
      "        Model: M4 R1 (M3 + Thin)\n",
      "        Date: 1940\n",
      "        Wiring: RDOBJNTKVEHMLFCWZAXGYIPSUQ\n"
     ]
    }
   ],
   "source": [
    "print(rotor.ROTOR_Reflector_C_Thin)"
   ]
  },
  {
   "cell_type": "code",
   "execution_count": 30,
   "id": "e0b20560",
   "metadata": {},
   "outputs": [
    {
     "name": "stdout",
     "output_type": "stream",
     "text": [
      "\n",
      "        Name: Reflector B\n",
      "        Model: None\n",
      "        Date: None\n",
      "        Wiring: YRUHQSLDPXNGOKMIEBFZCWVJAT\n"
     ]
    }
   ],
   "source": [
    "print(rotor.ROTOR_Reflector_B)"
   ]
  },
  {
   "cell_type": "code",
   "execution_count": null,
   "id": "adeb4a51",
   "metadata": {},
   "outputs": [],
   "source": []
  }
 ],
 "metadata": {
  "kernelspec": {
   "display_name": "Python 3 (ipykernel)",
   "language": "python",
   "name": "python3"
  },
  "language_info": {
   "codemirror_mode": {
    "name": "ipython",
    "version": 3
   },
   "file_extension": ".py",
   "mimetype": "text/x-python",
   "name": "python",
   "nbconvert_exporter": "python",
   "pygments_lexer": "ipython3",
   "version": "3.11.3"
  }
 },
 "nbformat": 4,
 "nbformat_minor": 5
}
