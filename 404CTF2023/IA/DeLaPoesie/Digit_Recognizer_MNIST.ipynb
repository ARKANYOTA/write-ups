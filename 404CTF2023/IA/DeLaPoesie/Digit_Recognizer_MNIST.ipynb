{
 "cells": [
  {
   "cell_type": "markdown",
   "metadata": {
    "colab_type": "text",
    "id": "BRu2Rkzp6BbS"
   },
   "source": [
    "# [Kaggle] Digit Recognizer \n",
    "\n",
    "MNIST (\"Modified National Institute of Standards and Technology\") is the de facto “hello world” dataset of computer vision. Since its release in 1999, this classic dataset of handwritten images has served as the basis for benchmarking classification algorithms. As new machine learning techniques emerge, MNIST remains a reliable resource for researchers and learners alike.\n",
    "\n",
    "In this competition, our goal is to correctly identify digits from a dataset of tens of thousands of handwritten images.\n",
    "\n",
    "> https://www.kaggle.com/c/digit-recognizer"
   ]
  },
  {
   "cell_type": "code",
   "execution_count": 11,
   "metadata": {},
   "outputs": [
    {
     "name": "stdout",
     "output_type": "stream",
     "text": [
      "\u001b[33mWARNING: Skipping /opt/homebrew/lib/python3.11/site-packages/numpy-1.24.3-py3.11.egg-info due to invalid metadata entry 'name'\u001b[0m\u001b[33m\n",
      "\u001b[0m\u001b[33mWARNING: Skipping /opt/homebrew/lib/python3.11/site-packages/six-1.16.0-py3.11.egg-info due to invalid metadata entry 'name'\u001b[0m\u001b[33m\n",
      "\u001b[0m\u001b[33mWARNING: Skipping /opt/homebrew/lib/python3.11/site-packages/PyYAML-6.0-py3.11.egg-info due to invalid metadata entry 'name'\u001b[0m\u001b[33m\n",
      "\u001b[0m\u001b[33mWARNING: Skipping /opt/homebrew/lib/python3.11/site-packages/numpy-1.24.3-py3.11.egg-info due to invalid metadata entry 'name'\u001b[0m\u001b[33m\n",
      "\u001b[0m\u001b[33mWARNING: Skipping /opt/homebrew/lib/python3.11/site-packages/six-1.16.0-py3.11.egg-info due to invalid metadata entry 'name'\u001b[0m\u001b[33m\n",
      "\u001b[0m\u001b[33mWARNING: Skipping /opt/homebrew/lib/python3.11/site-packages/PyYAML-6.0-py3.11.egg-info due to invalid metadata entry 'name'\u001b[0m\u001b[33m\n",
      "\u001b[0mCollecting scikit-learn\n",
      "  Downloading scikit_learn-1.2.2-cp311-cp311-macosx_12_0_arm64.whl (8.4 MB)\n",
      "\u001b[2K     \u001b[90m━━━━━━━━━━━━━━━━━━━━━━━━━━━━━━━━━━━━━━━━\u001b[0m \u001b[32m8.4/8.4 MB\u001b[0m \u001b[31m10.9 MB/s\u001b[0m eta \u001b[36m0:00:00\u001b[0m00:01\u001b[0m00:01\u001b[0m\n",
      "\u001b[?25hRequirement already satisfied: numpy>=1.17.3 in /opt/homebrew/lib/python3.11/site-packages (from scikit-learn) (1.24.3)\n",
      "Collecting scipy>=1.3.2\n",
      "  Downloading scipy-1.10.1-cp311-cp311-macosx_12_0_arm64.whl (28.7 MB)\n",
      "\u001b[2K     \u001b[90m━━━━━━━━━━━━━━━━━━━━━━━━━━━━━━━━━━━━━━━━\u001b[0m \u001b[32m28.7/28.7 MB\u001b[0m \u001b[31m7.3 MB/s\u001b[0m eta \u001b[36m0:00:00\u001b[0m00:01\u001b[0m00:01\u001b[0mm\n",
      "\u001b[?25hCollecting joblib>=1.1.1\n",
      "  Downloading joblib-1.2.0-py3-none-any.whl (297 kB)\n",
      "\u001b[2K     \u001b[90m━━━━━━━━━━━━━━━━━━━━━━━━━━━━━━━━━━━━━━━\u001b[0m \u001b[32m298.0/298.0 kB\u001b[0m \u001b[31m4.8 MB/s\u001b[0m eta \u001b[36m0:00:00\u001b[0ma \u001b[36m0:00:01\u001b[0m\n",
      "\u001b[?25hCollecting threadpoolctl>=2.0.0\n",
      "  Downloading threadpoolctl-3.1.0-py3-none-any.whl (14 kB)\n",
      "\u001b[33mWARNING: Skipping /opt/homebrew/lib/python3.11/site-packages/numpy-1.24.3-py3.11.egg-info due to invalid metadata entry 'name'\u001b[0m\u001b[33m\n",
      "\u001b[0m\u001b[33mWARNING: Skipping /opt/homebrew/lib/python3.11/site-packages/six-1.16.0-py3.11.egg-info due to invalid metadata entry 'name'\u001b[0m\u001b[33m\n",
      "\u001b[0m\u001b[33mWARNING: Skipping /opt/homebrew/lib/python3.11/site-packages/PyYAML-6.0-py3.11.egg-info due to invalid metadata entry 'name'\u001b[0m\u001b[33m\n",
      "\u001b[0mInstalling collected packages: threadpoolctl, scipy, joblib, scikit-learn\n",
      "\u001b[33mWARNING: Skipping /opt/homebrew/lib/python3.11/site-packages/numpy-1.24.3-py3.11.egg-info due to invalid metadata entry 'name'\u001b[0m\u001b[33m\n",
      "\u001b[0m\u001b[33mWARNING: Skipping /opt/homebrew/lib/python3.11/site-packages/six-1.16.0-py3.11.egg-info due to invalid metadata entry 'name'\u001b[0m\u001b[33m\n",
      "\u001b[0m\u001b[33mWARNING: Skipping /opt/homebrew/lib/python3.11/site-packages/PyYAML-6.0-py3.11.egg-info due to invalid metadata entry 'name'\u001b[0m\u001b[33m\n",
      "\u001b[0m\u001b[33mWARNING: Skipping /opt/homebrew/lib/python3.11/site-packages/numpy-1.24.3-py3.11.egg-info due to invalid metadata entry 'name'\u001b[0m\u001b[33m\n",
      "\u001b[0m\u001b[33mWARNING: Skipping /opt/homebrew/lib/python3.11/site-packages/numpy-1.24.3-py3.11.egg-info due to invalid metadata entry 'name'\u001b[0m\u001b[33m\n",
      "\u001b[0m\u001b[33mWARNING: Skipping /opt/homebrew/lib/python3.11/site-packages/six-1.16.0-py3.11.egg-info due to invalid metadata entry 'name'\u001b[0m\u001b[33m\n",
      "\u001b[0m\u001b[33mWARNING: Skipping /opt/homebrew/lib/python3.11/site-packages/PyYAML-6.0-py3.11.egg-info due to invalid metadata entry 'name'\u001b[0m\u001b[33m\n",
      "\u001b[0m\u001b[33mWARNING: Skipping /opt/homebrew/lib/python3.11/site-packages/numpy-1.24.3-py3.11.egg-info due to invalid metadata entry 'name'\u001b[0m\u001b[33m\n",
      "\u001b[0m\u001b[33mWARNING: Skipping /opt/homebrew/lib/python3.11/site-packages/six-1.16.0-py3.11.egg-info due to invalid metadata entry 'name'\u001b[0m\u001b[33m\n",
      "\u001b[0m\u001b[33mWARNING: Skipping /opt/homebrew/lib/python3.11/site-packages/PyYAML-6.0-py3.11.egg-info due to invalid metadata entry 'name'\u001b[0m\u001b[33m\n",
      "\u001b[0mSuccessfully installed joblib-1.2.0 scikit-learn-1.2.2 scipy-1.10.1 threadpoolctl-3.1.0\n",
      "\u001b[33mWARNING: Skipping /opt/homebrew/lib/python3.11/site-packages/numpy-1.24.3-py3.11.egg-info due to invalid metadata entry 'name'\u001b[0m\u001b[33m\n",
      "\u001b[0m\u001b[33mWARNING: Skipping /opt/homebrew/lib/python3.11/site-packages/six-1.16.0-py3.11.egg-info due to invalid metadata entry 'name'\u001b[0m\u001b[33m\n",
      "\u001b[0m\u001b[33mWARNING: Skipping /opt/homebrew/lib/python3.11/site-packages/PyYAML-6.0-py3.11.egg-info due to invalid metadata entry 'name'\u001b[0m\u001b[33m\n",
      "\u001b[0m\u001b[33mWARNING: Skipping /opt/homebrew/lib/python3.11/site-packages/numpy-1.24.3-py3.11.egg-info due to invalid metadata entry 'name'\u001b[0m\u001b[33m\n",
      "\u001b[0m\u001b[33mWARNING: Skipping /opt/homebrew/lib/python3.11/site-packages/six-1.16.0-py3.11.egg-info due to invalid metadata entry 'name'\u001b[0m\u001b[33m\n",
      "\u001b[0m\u001b[33mWARNING: Skipping /opt/homebrew/lib/python3.11/site-packages/PyYAML-6.0-py3.11.egg-info due to invalid metadata entry 'name'\u001b[0m\u001b[33m\n",
      "\u001b[0m\u001b[33mWARNING: Skipping /opt/homebrew/lib/python3.11/site-packages/numpy-1.24.3-py3.11.egg-info due to invalid metadata entry 'name'\u001b[0m\u001b[33m\n",
      "\u001b[0m\u001b[33mWARNING: Skipping /opt/homebrew/lib/python3.11/site-packages/six-1.16.0-py3.11.egg-info due to invalid metadata entry 'name'\u001b[0m\u001b[33m\n",
      "\u001b[0m\u001b[33mWARNING: Skipping /opt/homebrew/lib/python3.11/site-packages/PyYAML-6.0-py3.11.egg-info due to invalid metadata entry 'name'\u001b[0m\u001b[33m\n",
      "\u001b[0m\n",
      "\u001b[1m[\u001b[0m\u001b[34;49mnotice\u001b[0m\u001b[1;39;49m]\u001b[0m\u001b[39;49m A new release of pip is available: \u001b[0m\u001b[31;49m23.0.1\u001b[0m\u001b[39;49m -> \u001b[0m\u001b[32;49m23.1.2\u001b[0m\n",
      "\u001b[1m[\u001b[0m\u001b[34;49mnotice\u001b[0m\u001b[1;39;49m]\u001b[0m\u001b[39;49m To update, run: \u001b[0m\u001b[32;49mpython3.11 -m pip install --upgrade pip\u001b[0m\n"
     ]
    }
   ],
   "source": [
    "!pip3 install -U scikit-learn"
   ]
  },
  {
   "cell_type": "code",
   "execution_count": 12,
   "metadata": {
    "colab": {},
    "colab_type": "code",
    "id": "rIGF9uL86BbU"
   },
   "outputs": [],
   "source": [
    "import tensorflow as tf\n",
    "import numpy as np\n",
    "from tensorflow.keras.layers import Input, Conv2D, MaxPooling2D, Dense, Flatten, Dropout, Activation, BatchNormalization\n",
    "from tensorflow.keras.models import Model, Sequential\n",
    "from tensorflow.keras.utils import to_categorical\n",
    "from tensorflow.keras.preprocessing.image import ImageDataGenerator\n",
    "from tensorflow.keras.regularizers import l2\n",
    "from tensorflow.keras.callbacks import ReduceLROnPlateau\n",
    "from sklearn.model_selection import train_test_split\n",
    "import matplotlib.pyplot as plt\n",
    "import pandas as pd\n",
    "import math"
   ]
  },
  {
   "cell_type": "code",
   "execution_count": 3,
   "metadata": {
    "colab": {
     "base_uri": "https://localhost:8080/",
     "height": 34
    },
    "colab_type": "code",
    "id": "b-6lKxc-6BbX",
    "outputId": "cded106e-5ca5-4289-989d-caf40e0aa759"
   },
   "outputs": [
    {
     "name": "stdout",
     "output_type": "stream",
     "text": [
      "2.13.0-rc0\n"
     ]
    }
   ],
   "source": [
    "print(tf.__version__)"
   ]
  },
  {
   "cell_type": "markdown",
   "metadata": {
    "colab_type": "text",
    "id": "Cva2pBRm6Bbb"
   },
   "source": [
    "## Model\n",
    "\n",
    "### Implemented a modified LeNet-5. \n",
    "\n",
    "**LeNet-5** - GradientBased Learning Applied to Document Recognition (Yann LeCun Leon Bottou Yoshua Bengio and Patrick Haffner) (http://vision.stanford.edu/cs598_spring07/papers/Lecun98.pdf)\n",
    "\n",
    "### [LeNet-5] Original Architecture\n",
    "\n",
    "ConvNet --> Pool --> ConvNet --> Pool --> (Flatten) --> FullyConnected --> FullyConnected --> Softmax \n",
    "\n",
    "### Results\n",
    "\n",
    "**epochs** - 30  \n",
    "**loss** - 0.0016  \n",
    "**train_accuracy** -  0.9998  \n",
    "**val_loss** -  0.0412  \n",
    "**val_accuracy** - 0.9905  \n",
    "\n",
    "#### Highest Dev Set Accuracy Obtained - 99.05%"
   ]
  },
  {
   "cell_type": "code",
   "execution_count": 4,
   "metadata": {
    "colab": {},
    "colab_type": "code",
    "id": "zzwT2Buy6Bbc"
   },
   "outputs": [],
   "source": [
    "def LeNet5(input_shape = (32, 32, 1), classes = 10):\n",
    "    \"\"\"\n",
    "    Implementation of a modified LeNet-5.\n",
    "    Modified Architecture -- ConvNet --> Pool --> ConvNet --> Pool --> (Flatten) --> FullyConnected --> FullyConnected --> Softmax \n",
    "\n",
    "    Arguments:\n",
    "    input_shape -- shape of the images of the dataset\n",
    "    classes -- integer, number of classes\n",
    "\n",
    "    Returns:\n",
    "    model -- a Model() instance in Keras\n",
    "    \"\"\"\n",
    "    \n",
    "    model = Sequential([\n",
    "        \n",
    "    # Layer 1\n",
    "    Conv2D(filters = 6, kernel_size = 5, strides = 1, activation = 'relu', input_shape = (32,32,1), name = 'convolution_1'),\n",
    "    MaxPooling2D(pool_size = 2, strides = 2, name = 'max_pool_1'),\n",
    "        \n",
    "    # Layer 2\n",
    "    Conv2D(filters = 16, kernel_size = 5, strides = 1, activation = 'relu', name = 'convolution_2'),\n",
    "    MaxPooling2D(pool_size = 2, strides = 2, name = 'max_pool_2'),\n",
    "        \n",
    "    # Layer 3\n",
    "    Flatten(name = 'flatten'),\n",
    "    Dense(units = 120, activation = 'relu', name = 'fully_connected_1'),\n",
    "        \n",
    "    # Layer 4\n",
    "    Dense(units = 84, activation = 'relu', name = 'fully_connected_2'),\n",
    "    \n",
    "    # Output\n",
    "    Dense(units = 10, activation = 'softmax', name = 'output')\n",
    "        \n",
    "    ])\n",
    "    \n",
    "    model._name = 'LeNet5'\n",
    "\n",
    "    return model"
   ]
  },
  {
   "cell_type": "markdown",
   "metadata": {
    "colab_type": "text",
    "id": "LlJQLCOX6Bbe"
   },
   "source": [
    "### [LeNet-5] Modified Architecture\n",
    "\n",
    "ConvNet --> **ConvNet** --> Pool --> **(Dropout)** --> ConvNet --> Pool --> **(Dropout)** --> (Flatten) --> FullyConnected --> FullyConnected --> Softmax \n",
    "\n",
    "### Results\n",
    "\n",
    "**epochs** - 30  \n",
    "**loss** - 0.0319  \n",
    "**train_accuracy** -  0.9918  \n",
    "**val_loss** -  0.0327  \n",
    "**val_accuracy** - 0.9929  \n",
    "\n",
    "#### Highest Dev Set Accuracy Obtained - 99.29%"
   ]
  },
  {
   "cell_type": "code",
   "execution_count": 5,
   "metadata": {
    "colab": {},
    "colab_type": "code",
    "id": "O38-h8R86Bbf"
   },
   "outputs": [],
   "source": [
    "def LeNet5v1(input_shape = (32, 32, 1), classes = 10):\n",
    "    \"\"\"\n",
    "    Implementation of a modified LeNet-5.\n",
    "    Modified Architecture -- ConvNet --> ConvNet --> Pool --> (Dropout) --> ConvNet --> Pool --> (Dropout) --> (Flatten) --> FullyConnected --> FullyConnected --> Softmax \n",
    "\n",
    "    Arguments:\n",
    "    input_shape -- shape of the images of the dataset\n",
    "    classes -- integer, number of classes\n",
    "\n",
    "    Returns:\n",
    "    model -- a Model() instance in Keras\n",
    "    \"\"\"\n",
    "    \n",
    "    model = Sequential([\n",
    "        \n",
    "    # Layer 1\n",
    "    Conv2D(filters = 6, kernel_size = 5, strides = 1, activation = 'relu', input_shape = (32,32,1), name = 'convolution_1'),\n",
    "    \n",
    "    # Layer 2    \n",
    "    Conv2D(filters = 6, kernel_size = 5, strides = 1, activation = 'relu', name = 'convolution_2'),\n",
    "    \n",
    "    # -------------------------------- # \n",
    "    MaxPooling2D(pool_size = 2, strides = 2, name = 'max_pool_1'),\n",
    "    Dropout(0.25, name = 'dropout_1'),\n",
    "    # -------------------------------- # \n",
    "        \n",
    "    # Layer 3\n",
    "    Conv2D(filters = 16, kernel_size = 5, strides = 1, activation = 'relu', kernel_regularizer = l2(0.01), name = 'convolution_3'),\n",
    "    \n",
    "    # -------------------------------- # \n",
    "    MaxPooling2D(pool_size = 2, strides = 2, name = 'max_pool_2'),\n",
    "    Dropout(0.25, name = 'dropout_2'),\n",
    "    Flatten(name = 'flatten'),\n",
    "    # -------------------------------- # \n",
    "        \n",
    "    # Layer 4\n",
    "    Dense(units = 120, activation = 'relu', name = 'fully_connected_1'),\n",
    "        \n",
    "    # Layer 5\n",
    "    Dense(units = 84, activation = 'relu', name = 'fully_connected_2'),\n",
    "    \n",
    "    # Output\n",
    "    Dense(units = 10, activation = 'softmax', name = 'output')\n",
    "        \n",
    "    ])\n",
    "    \n",
    "    model._name = 'LeNet5v1'\n",
    "\n",
    "    return model"
   ]
  },
  {
   "cell_type": "markdown",
   "metadata": {
    "colab_type": "text",
    "id": "VmJKdBrC6Bbi"
   },
   "source": [
    "### [LeNet-5] Modified Architecture\n",
    "\n",
    "ConvNet --> **ConvNet** --> **BatchNorm** --> Pool --> **(Dropout)** --> ConvNet --> **ConvNet** --> **BatchNorm** --> Pool --> **(Dropout)** --> (Flatten) --> **FullyConnected** --> **BatchNorm** --> FullyConnected --> **BatchNorm** --> FullyConnected --> **BatchNorm** --> **(Dropout)** --> Softmax \n",
    "\n",
    "### Results\n",
    "\n",
    "**epochs** - 30  \n",
    "**loss** - 0.0112  \n",
    "**train_accuracy** - 0.9982   \n",
    "**val_loss** -  0.0192  \n",
    "**val_accuracy** - 0.9962  \n",
    "\n",
    "#### Highest Dev Set Accuracy Obtained - 99.62%"
   ]
  },
  {
   "cell_type": "code",
   "execution_count": 6,
   "metadata": {
    "colab": {},
    "colab_type": "code",
    "id": "vP3BMEMy6Bbi"
   },
   "outputs": [],
   "source": [
    "def LeNet5v2(input_shape = (32, 32, 1), classes = 10):\n",
    "    \"\"\"\n",
    "    Implementation of a modified LeNet-5.\n",
    "    Only those layers with learnable parameters are counted in the layer numbering.\n",
    "    \n",
    "    Arguments:\n",
    "    input_shape -- shape of the images of the dataset\n",
    "    classes -- integer, number of classes\n",
    "\n",
    "    Returns:\n",
    "    model -- a Model() instance in Keras\n",
    "    \"\"\"\n",
    "    \n",
    "    model = Sequential([\n",
    "        \n",
    "    # Layer 1\n",
    "    Conv2D(filters = 32, kernel_size = 5, strides = 1, activation = 'relu', input_shape = (32,32,1), kernel_regularizer=l2(0.0005), name = 'convolution_1'),\n",
    "    \n",
    "    # Layer 2\n",
    "    Conv2D(filters = 32, kernel_size = 5, strides = 1, name = 'convolution_2', use_bias=False),\n",
    "    \n",
    "    # Layer 3    \n",
    "    BatchNormalization(name = 'batchnorm_1'),\n",
    "        \n",
    "    # -------------------------------- #  \n",
    "    Activation(\"relu\"),\n",
    "    MaxPooling2D(pool_size = 2, strides = 2, name = 'max_pool_1'),\n",
    "    Dropout(0.25, name = 'dropout_1'),\n",
    "    # -------------------------------- #  \n",
    "        \n",
    "    # Layer 3\n",
    "    Conv2D(filters = 64, kernel_size = 3, strides = 1, activation = 'relu', kernel_regularizer=l2(0.0005), name = 'convolution_3'),\n",
    "        \n",
    "    # Layer 4\n",
    "    Conv2D(filters = 64, kernel_size = 3, strides = 1, name = 'convolution_4', use_bias=False),\n",
    "        \n",
    "    # Layer 5\n",
    "    BatchNormalization(name = 'batchnorm_2'),\n",
    "        \n",
    "    # -------------------------------- #  \n",
    "    Activation(\"relu\"),\n",
    "    MaxPooling2D(pool_size = 2, strides = 2, name = 'max_pool_2'),\n",
    "    Dropout(0.25, name = 'dropout_2'),\n",
    "    Flatten(name = 'flatten'),\n",
    "    # -------------------------------- #  \n",
    "        \n",
    "    # Layer 6\n",
    "    Dense(units = 256, name = 'fully_connected_1', use_bias=False),\n",
    "        \n",
    "    # Layer 7\n",
    "    BatchNormalization(name = 'batchnorm_3'),\n",
    "    \n",
    "    # -------------------------------- #  \n",
    "    Activation(\"relu\"),\n",
    "    # -------------------------------- #  \n",
    "        \n",
    "    # Layer 8\n",
    "    Dense(units = 128, name = 'fully_connected_2', use_bias=False),\n",
    "        \n",
    "    # Layer 9\n",
    "    BatchNormalization(name = 'batchnorm_4'),\n",
    "        \n",
    "    # -------------------------------- #  \n",
    "    Activation(\"relu\"),\n",
    "    # -------------------------------- #  \n",
    "        \n",
    "    # Layer 10\n",
    "    Dense(units = 84, name = 'fully_connected_3', use_bias=False),\n",
    "        \n",
    "    # Layer 11\n",
    "    BatchNormalization(name = 'batchnorm_5'),\n",
    "        \n",
    "    # -------------------------------- #  \n",
    "    Activation(\"relu\"),\n",
    "    Dropout(0.25, name = 'dropout_3'),\n",
    "    # -------------------------------- #  \n",
    "\n",
    "    # Output\n",
    "    Dense(units = 10, activation = 'softmax', name = 'output')\n",
    "        \n",
    "    ])\n",
    "    \n",
    "    model._name = 'LeNet5v2'\n",
    "\n",
    "    return model"
   ]
  },
  {
   "cell_type": "code",
   "execution_count": 7,
   "metadata": {
    "colab": {},
    "colab_type": "code",
    "id": "KPVOreYI6Bbl"
   },
   "outputs": [],
   "source": [
    "LeNet5Model = LeNet5v2(input_shape = (32, 32, 1), classes = 10)"
   ]
  },
  {
   "cell_type": "code",
   "execution_count": 8,
   "metadata": {
    "colab": {},
    "colab_type": "code",
    "id": "_WE7wIWR6Bbn"
   },
   "outputs": [],
   "source": [
    "LeNet5Model.compile(optimizer='adam', loss='categorical_crossentropy', metrics=['accuracy'])"
   ]
  },
  {
   "cell_type": "code",
   "execution_count": 9,
   "metadata": {
    "colab": {
     "base_uri": "https://localhost:8080/",
     "height": 969
    },
    "colab_type": "code",
    "id": "bKRpyBC56Bbq",
    "outputId": "522bc0a2-1de9-4797-ed92-d276df4bd3bc"
   },
   "outputs": [
    {
     "name": "stdout",
     "output_type": "stream",
     "text": [
      "Model: \"LeNet5v2\"\n",
      "_________________________________________________________________\n",
      " Layer (type)                Output Shape              Param #   \n",
      "=================================================================\n",
      " convolution_1 (Conv2D)      (None, 28, 28, 32)        832       \n",
      "                                                                 \n",
      " convolution_2 (Conv2D)      (None, 24, 24, 32)        25600     \n",
      "                                                                 \n",
      " batchnorm_1 (BatchNormaliz  (None, 24, 24, 32)        128       \n",
      " ation)                                                          \n",
      "                                                                 \n",
      " activation (Activation)     (None, 24, 24, 32)        0         \n",
      "                                                                 \n",
      " max_pool_1 (MaxPooling2D)   (None, 12, 12, 32)        0         \n",
      "                                                                 \n",
      " dropout_1 (Dropout)         (None, 12, 12, 32)        0         \n",
      "                                                                 \n",
      " convolution_3 (Conv2D)      (None, 10, 10, 64)        18496     \n",
      "                                                                 \n",
      " convolution_4 (Conv2D)      (None, 8, 8, 64)          36864     \n",
      "                                                                 \n",
      " batchnorm_2 (BatchNormaliz  (None, 8, 8, 64)          256       \n",
      " ation)                                                          \n",
      "                                                                 \n",
      " activation_1 (Activation)   (None, 8, 8, 64)          0         \n",
      "                                                                 \n",
      " max_pool_2 (MaxPooling2D)   (None, 4, 4, 64)          0         \n",
      "                                                                 \n",
      " dropout_2 (Dropout)         (None, 4, 4, 64)          0         \n",
      "                                                                 \n",
      " flatten (Flatten)           (None, 1024)              0         \n",
      "                                                                 \n",
      " fully_connected_1 (Dense)   (None, 256)               262144    \n",
      "                                                                 \n",
      " batchnorm_3 (BatchNormaliz  (None, 256)               1024      \n",
      " ation)                                                          \n",
      "                                                                 \n",
      " activation_2 (Activation)   (None, 256)               0         \n",
      "                                                                 \n",
      " fully_connected_2 (Dense)   (None, 128)               32768     \n",
      "                                                                 \n",
      " batchnorm_4 (BatchNormaliz  (None, 128)               512       \n",
      " ation)                                                          \n",
      "                                                                 \n",
      " activation_3 (Activation)   (None, 128)               0         \n",
      "                                                                 \n",
      " fully_connected_3 (Dense)   (None, 84)                10752     \n",
      "                                                                 \n",
      " batchnorm_5 (BatchNormaliz  (None, 84)                336       \n",
      " ation)                                                          \n",
      "                                                                 \n",
      " activation_4 (Activation)   (None, 84)                0         \n",
      "                                                                 \n",
      " dropout_3 (Dropout)         (None, 84)                0         \n",
      "                                                                 \n",
      " output (Dense)              (None, 10)                850       \n",
      "                                                                 \n",
      "=================================================================\n",
      "Total params: 390562 (1.49 MB)\n",
      "Trainable params: 389434 (1.49 MB)\n",
      "Non-trainable params: 1128 (4.41 KB)\n",
      "_________________________________________________________________\n"
     ]
    }
   ],
   "source": [
    "LeNet5Model.summary()"
   ]
  },
  {
   "cell_type": "code",
   "execution_count": null,
   "metadata": {
    "colab": {},
    "colab_type": "code",
    "id": "1rH9irWw6Bbs"
   },
   "outputs": [],
   "source": []
  },
  {
   "cell_type": "markdown",
   "metadata": {
    "colab_type": "text",
    "id": "_9Jw_5Yy6Bbu"
   },
   "source": [
    "## Kaggle Data Processing"
   ]
  },
  {
   "cell_type": "code",
   "execution_count": 13,
   "metadata": {
    "colab": {
     "base_uri": "https://localhost:8080/",
     "height": 316
    },
    "colab_type": "code",
    "id": "NvBD5ecM6Bbv",
    "outputId": "b5ca9e93-3e5d-4112-c250-68ef7439b476",
    "scrolled": true
   },
   "outputs": [
    {
     "name": "stdout",
     "output_type": "stream",
     "text": [
      "Size of Dataset:  42000\n",
      "Size of Cross Validation Set:  2100\n"
     ]
    },
    {
     "data": {
      "text/plain": [
       "<matplotlib.image.AxesImage at 0x28532ead0>"
      ]
     },
     "execution_count": 13,
     "metadata": {},
     "output_type": "execute_result"
    },
    {
     "data": {
      "image/png": "[encoded data removed]",
      "text/plain": [
       "<Figure size 640x480 with 1 Axes>"
      ]
     },
     "metadata": {},
     "output_type": "display_data"
    }
   ],
   "source": [
    "train = pd.read_csv('train.csv')\n",
    "test = pd.read_csv('test.csv')\n",
    "\n",
    "Y = train[['label']]\n",
    "X = train.drop(train.columns[[0]], axis=1)\n",
    "\n",
    "X = X.values.reshape(-1,28,28,1)\n",
    "test = test.values.reshape(-1,28,28,1)\n",
    "\n",
    "print(\"Size of Dataset: \" , len(X))\n",
    "\n",
    "cross_validation_size = int(len(X)*0.05)\n",
    "\n",
    "print(\"Size of Cross Validation Set: \" , cross_validation_size)\n",
    "\n",
    "random_seed = 2\n",
    "X_train, X_val, Y_train, Y_val = train_test_split(X, Y, test_size = cross_validation_size, random_state=random_seed)\n",
    "\n",
    "X_test = test\n",
    "\n",
    "plt.imshow(X_train[0][:,:,0])"
   ]
  },
  {
   "cell_type": "code",
   "execution_count": 32,
   "metadata": {
    "colab": {},
    "colab_type": "code",
    "id": "05nGMrbm6Bbx"
   },
   "outputs": [
    {
     "name": "stdout",
     "output_type": "stream",
     "text": [
      "[[[[-0.36360003]\n",
      "   [-0.36360003]\n",
      "   [-0.36360003]\n",
      "   ...\n",
      "   [-0.36360003]\n",
      "   [-0.36360003]\n",
      "   [-0.36360003]]\n",
      "\n",
      "  [[-0.36360003]\n",
      "   [-0.36360003]\n",
      "   [-0.36360003]\n",
      "   ...\n",
      "   [-0.36360003]\n",
      "   [-0.36360003]\n",
      "   [-0.36360003]]\n",
      "\n",
      "  [[-0.36360003]\n",
      "   [-0.36360003]\n",
      "   [-0.36360003]\n",
      "   ...\n",
      "   [-0.36360003]\n",
      "   [-0.36360003]\n",
      "   [-0.36360003]]\n",
      "\n",
      "  ...\n",
      "\n",
      "  [[-0.36360003]\n",
      "   [-0.36360003]\n",
      "   [-0.36360003]\n",
      "   ...\n",
      "   [-0.36360003]\n",
      "   [-0.36360003]\n",
      "   [-0.36360003]]\n",
      "\n",
      "  [[-0.36360003]\n",
      "   [-0.36360003]\n",
      "   [-0.36360003]\n",
      "   ...\n",
      "   [-0.36360003]\n",
      "   [-0.36360003]\n",
      "   [-0.36360003]]\n",
      "\n",
      "  [[-0.36360003]\n",
      "   [-0.36360003]\n",
      "   [-0.36360003]\n",
      "   ...\n",
      "   [-0.36360003]\n",
      "   [-0.36360003]\n",
      "   [-0.36360003]]]\n",
      "\n",
      "\n",
      " [[[-0.36360003]\n",
      "   [-0.36360003]\n",
      "   [-0.36360003]\n",
      "   ...\n",
      "   [-0.36360003]\n",
      "   [-0.36360003]\n",
      "   [-0.36360003]]\n",
      "\n",
      "  [[-0.36360003]\n",
      "   [-0.36360003]\n",
      "   [-0.36360003]\n",
      "   ...\n",
      "   [-0.36360003]\n",
      "   [-0.36360003]\n",
      "   [-0.36360003]]\n",
      "\n",
      "  [[-0.36360003]\n",
      "   [-0.36360003]\n",
      "   [-0.36360003]\n",
      "   ...\n",
      "   [-0.36360003]\n",
      "   [-0.36360003]\n",
      "   [-0.36360003]]\n",
      "\n",
      "  ...\n",
      "\n",
      "  [[-0.36360003]\n",
      "   [-0.36360003]\n",
      "   [-0.36360003]\n",
      "   ...\n",
      "   [-0.36360003]\n",
      "   [-0.36360003]\n",
      "   [-0.36360003]]\n",
      "\n",
      "  [[-0.36360003]\n",
      "   [-0.36360003]\n",
      "   [-0.36360003]\n",
      "   ...\n",
      "   [-0.36360003]\n",
      "   [-0.36360003]\n",
      "   [-0.36360003]]\n",
      "\n",
      "  [[-0.36360003]\n",
      "   [-0.36360003]\n",
      "   [-0.36360003]\n",
      "   ...\n",
      "   [-0.36360003]\n",
      "   [-0.36360003]\n",
      "   [-0.36360003]]]\n",
      "\n",
      "\n",
      " [[[-0.36360003]\n",
      "   [-0.36360003]\n",
      "   [-0.36360003]\n",
      "   ...\n",
      "   [-0.36360003]\n",
      "   [-0.36360003]\n",
      "   [-0.36360003]]\n",
      "\n",
      "  [[-0.36360003]\n",
      "   [-0.36360003]\n",
      "   [-0.36360003]\n",
      "   ...\n",
      "   [-0.36360003]\n",
      "   [-0.36360003]\n",
      "   [-0.36360003]]\n",
      "\n",
      "  [[-0.36360003]\n",
      "   [-0.36360003]\n",
      "   [-0.36360003]\n",
      "   ...\n",
      "   [-0.36360003]\n",
      "   [-0.36360003]\n",
      "   [-0.36360003]]\n",
      "\n",
      "  ...\n",
      "\n",
      "  [[-0.36360003]\n",
      "   [-0.36360003]\n",
      "   [-0.36360003]\n",
      "   ...\n",
      "   [-0.36360003]\n",
      "   [-0.36360003]\n",
      "   [-0.36360003]]\n",
      "\n",
      "  [[-0.36360003]\n",
      "   [-0.36360003]\n",
      "   [-0.36360003]\n",
      "   ...\n",
      "   [-0.36360003]\n",
      "   [-0.36360003]\n",
      "   [-0.36360003]]\n",
      "\n",
      "  [[-0.36360003]\n",
      "   [-0.36360003]\n",
      "   [-0.36360003]\n",
      "   ...\n",
      "   [-0.36360003]\n",
      "   [-0.36360003]\n",
      "   [-0.36360003]]]\n",
      "\n",
      "\n",
      " ...\n",
      "\n",
      "\n",
      " [[[-0.36360003]\n",
      "   [-0.36360003]\n",
      "   [-0.36360003]\n",
      "   ...\n",
      "   [-0.36360003]\n",
      "   [-0.36360003]\n",
      "   [-0.36360003]]\n",
      "\n",
      "  [[-0.36360003]\n",
      "   [-0.36360003]\n",
      "   [-0.36360003]\n",
      "   ...\n",
      "   [-0.36360003]\n",
      "   [-0.36360003]\n",
      "   [-0.36360003]]\n",
      "\n",
      "  [[-0.36360003]\n",
      "   [-0.36360003]\n",
      "   [-0.36360003]\n",
      "   ...\n",
      "   [-0.36360003]\n",
      "   [-0.36360003]\n",
      "   [-0.36360003]]\n",
      "\n",
      "  ...\n",
      "\n",
      "  [[-0.36360003]\n",
      "   [-0.36360003]\n",
      "   [-0.36360003]\n",
      "   ...\n",
      "   [-0.36360003]\n",
      "   [-0.36360003]\n",
      "   [-0.36360003]]\n",
      "\n",
      "  [[-0.36360003]\n",
      "   [-0.36360003]\n",
      "   [-0.36360003]\n",
      "   ...\n",
      "   [-0.36360003]\n",
      "   [-0.36360003]\n",
      "   [-0.36360003]]\n",
      "\n",
      "  [[-0.36360003]\n",
      "   [-0.36360003]\n",
      "   [-0.36360003]\n",
      "   ...\n",
      "   [-0.36360003]\n",
      "   [-0.36360003]\n",
      "   [-0.36360003]]]\n",
      "\n",
      "\n",
      " [[[-0.36360003]\n",
      "   [-0.36360003]\n",
      "   [-0.36360003]\n",
      "   ...\n",
      "   [-0.36360003]\n",
      "   [-0.36360003]\n",
      "   [-0.36360003]]\n",
      "\n",
      "  [[-0.36360003]\n",
      "   [-0.36360003]\n",
      "   [-0.36360003]\n",
      "   ...\n",
      "   [-0.36360003]\n",
      "   [-0.36360003]\n",
      "   [-0.36360003]]\n",
      "\n",
      "  [[-0.36360003]\n",
      "   [-0.36360003]\n",
      "   [-0.36360003]\n",
      "   ...\n",
      "   [-0.36360003]\n",
      "   [-0.36360003]\n",
      "   [-0.36360003]]\n",
      "\n",
      "  ...\n",
      "\n",
      "  [[-0.36360003]\n",
      "   [-0.36360003]\n",
      "   [-0.36360003]\n",
      "   ...\n",
      "   [-0.36360003]\n",
      "   [-0.36360003]\n",
      "   [-0.36360003]]\n",
      "\n",
      "  [[-0.36360003]\n",
      "   [-0.36360003]\n",
      "   [-0.36360003]\n",
      "   ...\n",
      "   [-0.36360003]\n",
      "   [-0.36360003]\n",
      "   [-0.36360003]]\n",
      "\n",
      "  [[-0.36360003]\n",
      "   [-0.36360003]\n",
      "   [-0.36360003]\n",
      "   ...\n",
      "   [-0.36360003]\n",
      "   [-0.36360003]\n",
      "   [-0.36360003]]]\n",
      "\n",
      "\n",
      " [[[-0.36360003]\n",
      "   [-0.36360003]\n",
      "   [-0.36360003]\n",
      "   ...\n",
      "   [-0.36360003]\n",
      "   [-0.36360003]\n",
      "   [-0.36360003]]\n",
      "\n",
      "  [[-0.36360003]\n",
      "   [-0.36360003]\n",
      "   [-0.36360003]\n",
      "   ...\n",
      "   [-0.36360003]\n",
      "   [-0.36360003]\n",
      "   [-0.36360003]]\n",
      "\n",
      "  [[-0.36360003]\n",
      "   [-0.36360003]\n",
      "   [-0.36360003]\n",
      "   ...\n",
      "   [-0.36360003]\n",
      "   [-0.36360003]\n",
      "   [-0.36360003]]\n",
      "\n",
      "  ...\n",
      "\n",
      "  [[-0.36360003]\n",
      "   [-0.36360003]\n",
      "   [-0.36360003]\n",
      "   ...\n",
      "   [-0.36360003]\n",
      "   [-0.36360003]\n",
      "   [-0.36360003]]\n",
      "\n",
      "  [[-0.36360003]\n",
      "   [-0.36360003]\n",
      "   [-0.36360003]\n",
      "   ...\n",
      "   [-0.36360003]\n",
      "   [-0.36360003]\n",
      "   [-0.36360003]]\n",
      "\n",
      "  [[-0.36360003]\n",
      "   [-0.36360003]\n",
      "   [-0.36360003]\n",
      "   ...\n",
      "   [-0.36360003]\n",
      "   [-0.36360003]\n",
      "   [-0.36360003]]]]\n"
     ]
    }
   ],
   "source": [
    "X_train = np.array(X_train)\n",
    "X_val = np.array(X_val)\n",
    "X_test = np.array(X_test)\n",
    "\n",
    "print(X_test)\n",
    "\n",
    "# Padding the images by 2 pixels since in the paper input images were 32x32\n",
    "X_train = np.pad(X_train, ((0,0),(2,2),(2,2),(0,0)), 'constant')\n",
    "X_val = np.pad(X_val, ((0,0),(2,2),(2,2),(0,0)), 'constant')\n",
    "X_test = np.pad(X_test, ((0,0),(2,2),(2,2),(0,0)), 'constant')\n",
    "\n",
    "# Standardization\n",
    "mean_px = X_train.mean().astype(np.float32)\n",
    "std_px = X_train.std().astype(np.float32)\n",
    "X_train = (X_train - mean_px)/(std_px)\n",
    "\n",
    "mean_px = X_val.mean().astype(np.float32)\n",
    "std_px = X_val.std().astype(np.float32)\n",
    "X_val = (X_val - mean_px)/(std_px)\n",
    "\n",
    "mean_px = X_test.mean().astype(np.float32)\n",
    "std_px = X_test.std().astype(np.float32)\n",
    "X_test = (X_test - mean_px)/(std_px)\n",
    "\n",
    "# One-hot encoding the labels\n",
    "Y_train = to_categorical(Y_train, num_classes = 10)\n",
    "Y_val = to_categorical(Y_val, num_classes = 10)"
   ]
  },
  {
   "cell_type": "code",
   "execution_count": 15,
   "metadata": {
    "colab": {},
    "colab_type": "code",
    "id": "C-EpjOba6Bb0"
   },
   "outputs": [],
   "source": [
    "# By using the image generator, we are not generating new data. We are only replacing the exisiting images. \n",
    "\n",
    "datagen = ImageDataGenerator(\n",
    "        featurewise_center = False,  # set input mean to 0 over the dataset\n",
    "        samplewise_center = False,  # set each sample mean to 0\n",
    "        featurewise_std_normalization = False,  # divide inputs by std of the dataset\n",
    "        samplewise_std_normalization = False,  # divide each input by its std\n",
    "        zca_whitening = False,  # apply ZCA whitening\n",
    "        rotation_range = 10,  # randomly rotate images in the range (degrees, 0 to 180)\n",
    "        zoom_range = 0.1, # Randomly zoom image \n",
    "        width_shift_range = 0.1,  # randomly shift images horizontally (fraction of total width)\n",
    "        height_shift_range = 0.1,  # randomly shift images vertically (fraction of total height)\n",
    "        horizontal_flip = False,  # randomly flip images\n",
    "        vertical_flip = False)  # randomly flip images\n",
    "\n",
    "datagen.fit(X_train)"
   ]
  },
  {
   "cell_type": "code",
   "execution_count": null,
   "metadata": {
    "colab": {},
    "colab_type": "code",
    "id": "h1K3pH4W6Bb2"
   },
   "outputs": [],
   "source": []
  },
  {
   "cell_type": "markdown",
   "metadata": {
    "colab_type": "text",
    "id": "Ti9fic6R6Bb4"
   },
   "source": [
    "### Variable Learning Rate "
   ]
  },
  {
   "cell_type": "code",
   "execution_count": 16,
   "metadata": {
    "colab": {},
    "colab_type": "code",
    "id": "QzelRWLT6Bb5"
   },
   "outputs": [],
   "source": [
    "variable_learning_rate = ReduceLROnPlateau(monitor='val_loss', factor = 0.2, patience = 2)"
   ]
  },
  {
   "cell_type": "code",
   "execution_count": null,
   "metadata": {
    "colab": {},
    "colab_type": "code",
    "id": "NmnLaU1h6Bb7"
   },
   "outputs": [],
   "source": []
  },
  {
   "cell_type": "markdown",
   "metadata": {
    "colab_type": "text",
    "id": "DBY7Qi_G6Bb9"
   },
   "source": [
    "### Model Training"
   ]
  },
  {
   "cell_type": "code",
   "execution_count": 17,
   "metadata": {
    "colab": {
     "base_uri": "https://localhost:8080/",
     "height": 1000
    },
    "colab_type": "code",
    "id": "8aFRDFKK6Bb9",
    "outputId": "fb57cda5-7d85-4388-ddad-67adc60041ce",
    "scrolled": false
   },
   "outputs": [
    {
     "name": "stdout",
     "output_type": "stream",
     "text": [
      "Epoch 1/30\n",
      "624/624 [==============================] - 33s 53ms/step - loss: 0.2632 - accuracy: 0.9322 - val_loss: 0.1245 - val_accuracy: 0.9648 - lr: 0.0010\n",
      "Epoch 2/30\n",
      "624/624 [==============================] - 34s 55ms/step - loss: 0.0979 - accuracy: 0.9774 - val_loss: 0.0570 - val_accuracy: 0.9890 - lr: 0.0010\n",
      "Epoch 3/30\n",
      "624/624 [==============================] - 37s 59ms/step - loss: 0.0772 - accuracy: 0.9821 - val_loss: 0.0493 - val_accuracy: 0.9895 - lr: 0.0010\n",
      "Epoch 4/30\n",
      "624/624 [==============================] - 36s 57ms/step - loss: 0.0669 - accuracy: 0.9846 - val_loss: 0.0509 - val_accuracy: 0.9886 - lr: 0.0010\n",
      "Epoch 5/30\n",
      "624/624 [==============================] - 37s 60ms/step - loss: 0.0574 - accuracy: 0.9867 - val_loss: 0.0409 - val_accuracy: 0.9914 - lr: 0.0010\n",
      "Epoch 6/30\n",
      "624/624 [==============================] - 44s 71ms/step - loss: 0.0519 - accuracy: 0.9879 - val_loss: 0.0392 - val_accuracy: 0.9929 - lr: 0.0010\n",
      "Epoch 7/30\n",
      "624/624 [==============================] - 41s 65ms/step - loss: 0.0470 - accuracy: 0.9888 - val_loss: 0.0451 - val_accuracy: 0.9895 - lr: 0.0010\n",
      "Epoch 8/30\n",
      "624/624 [==============================] - 41s 66ms/step - loss: 0.0459 - accuracy: 0.9891 - val_loss: 0.0354 - val_accuracy: 0.9924 - lr: 0.0010\n",
      "Epoch 9/30\n",
      "624/624 [==============================] - 42s 67ms/step - loss: 0.0415 - accuracy: 0.9900 - val_loss: 0.0509 - val_accuracy: 0.9867 - lr: 0.0010\n",
      "Epoch 10/30\n",
      "624/624 [==============================] - 41s 66ms/step - loss: 0.0414 - accuracy: 0.9904 - val_loss: 0.0375 - val_accuracy: 0.9910 - lr: 0.0010\n",
      "Epoch 11/30\n",
      "624/624 [==============================] - 44s 71ms/step - loss: 0.0279 - accuracy: 0.9942 - val_loss: 0.0232 - val_accuracy: 0.9957 - lr: 2.0000e-04\n",
      "Epoch 12/30\n",
      "624/624 [==============================] - 51s 81ms/step - loss: 0.0226 - accuracy: 0.9955 - val_loss: 0.0226 - val_accuracy: 0.9962 - lr: 2.0000e-04\n",
      "Epoch 13/30\n",
      "624/624 [==============================] - 54s 86ms/step - loss: 0.0206 - accuracy: 0.9957 - val_loss: 0.0176 - val_accuracy: 0.9971 - lr: 2.0000e-04\n",
      "Epoch 14/30\n",
      "624/624 [==============================] - 48s 77ms/step - loss: 0.0209 - accuracy: 0.9956 - val_loss: 0.0290 - val_accuracy: 0.9952 - lr: 2.0000e-04\n",
      "Epoch 15/30\n",
      "624/624 [==============================] - 45s 72ms/step - loss: 0.0183 - accuracy: 0.9959 - val_loss: 0.0202 - val_accuracy: 0.9948 - lr: 2.0000e-04\n",
      "Epoch 16/30\n",
      "624/624 [==============================] - 45s 72ms/step - loss: 0.0157 - accuracy: 0.9969 - val_loss: 0.0212 - val_accuracy: 0.9948 - lr: 4.0000e-05\n",
      "Epoch 17/30\n",
      "624/624 [==============================] - 46s 74ms/step - loss: 0.0152 - accuracy: 0.9971 - val_loss: 0.0194 - val_accuracy: 0.9952 - lr: 4.0000e-05\n",
      "Epoch 18/30\n",
      "624/624 [==============================] - 47s 74ms/step - loss: 0.0141 - accuracy: 0.9976 - val_loss: 0.0203 - val_accuracy: 0.9957 - lr: 8.0000e-06\n",
      "Epoch 19/30\n",
      "624/624 [==============================] - 47s 75ms/step - loss: 0.0145 - accuracy: 0.9971 - val_loss: 0.0200 - val_accuracy: 0.9952 - lr: 8.0000e-06\n",
      "Epoch 20/30\n",
      "624/624 [==============================] - 47s 75ms/step - loss: 0.0143 - accuracy: 0.9970 - val_loss: 0.0207 - val_accuracy: 0.9952 - lr: 1.6000e-06\n",
      "Epoch 21/30\n",
      "624/624 [==============================] - 46s 74ms/step - loss: 0.0139 - accuracy: 0.9974 - val_loss: 0.0195 - val_accuracy: 0.9957 - lr: 1.6000e-06\n",
      "Epoch 22/30\n",
      "624/624 [==============================] - 46s 74ms/step - loss: 0.0141 - accuracy: 0.9975 - val_loss: 0.0199 - val_accuracy: 0.9957 - lr: 3.2000e-07\n",
      "Epoch 23/30\n",
      "624/624 [==============================] - 46s 75ms/step - loss: 0.0138 - accuracy: 0.9975 - val_loss: 0.0198 - val_accuracy: 0.9957 - lr: 3.2000e-07\n",
      "Epoch 24/30\n",
      "624/624 [==============================] - 46s 74ms/step - loss: 0.0145 - accuracy: 0.9972 - val_loss: 0.0199 - val_accuracy: 0.9952 - lr: 6.4000e-08\n",
      "Epoch 25/30\n",
      "624/624 [==============================] - 46s 74ms/step - loss: 0.0137 - accuracy: 0.9977 - val_loss: 0.0200 - val_accuracy: 0.9957 - lr: 6.4000e-08\n",
      "Epoch 26/30\n",
      "624/624 [==============================] - 46s 74ms/step - loss: 0.0140 - accuracy: 0.9976 - val_loss: 0.0194 - val_accuracy: 0.9952 - lr: 1.2800e-08\n",
      "Epoch 27/30\n",
      "624/624 [==============================] - 47s 76ms/step - loss: 0.0133 - accuracy: 0.9978 - val_loss: 0.0196 - val_accuracy: 0.9957 - lr: 1.2800e-08\n",
      "Epoch 28/30\n",
      "624/624 [==============================] - 49s 79ms/step - loss: 0.0136 - accuracy: 0.9978 - val_loss: 0.0197 - val_accuracy: 0.9962 - lr: 2.5600e-09\n",
      "Epoch 29/30\n",
      "624/624 [==============================] - 50s 80ms/step - loss: 0.0132 - accuracy: 0.9977 - val_loss: 0.0199 - val_accuracy: 0.9952 - lr: 2.5600e-09\n",
      "Epoch 30/30\n",
      "624/624 [==============================] - 47s 76ms/step - loss: 0.0146 - accuracy: 0.9969 - val_loss: 0.0196 - val_accuracy: 0.9952 - lr: 5.1200e-10\n"
     ]
    }
   ],
   "source": [
    "history = LeNet5Model.fit(X_train, Y_train, epochs = 30, batch_size = 64, callbacks = [variable_learning_rate], validation_data = (X_val,Y_val))"
   ]
  },
  {
   "cell_type": "code",
   "execution_count": 18,
   "metadata": {
    "colab": {
     "base_uri": "https://localhost:8080/",
     "height": 1000
    },
    "colab_type": "code",
    "id": "Ku4GlfnI6BcA",
    "outputId": "e4737e3b-6a59-4670-c8f5-698d5c9fcf53"
   },
   "outputs": [
    {
     "data": {
      "text/plain": [
       "<Figure size 640x480 with 0 Axes>"
      ]
     },
     "execution_count": 18,
     "metadata": {},
     "output_type": "execute_result"
    },
    {
     "data": {
      "image/png": "[encoded data removed]",
      "text/plain": [
       "<Figure size 640x480 with 1 Axes>"
      ]
     },
     "metadata": {},
     "output_type": "display_data"
    },
    {
     "data": {
      "image/png": "[encoded data removed]",
      "text/plain": [
       "<Figure size 640x480 with 1 Axes>"
      ]
     },
     "metadata": {},
     "output_type": "display_data"
    },
    {
     "data": {
      "text/plain": [
       "<Figure size 640x480 with 0 Axes>"
      ]
     },
     "metadata": {},
     "output_type": "display_data"
    }
   ],
   "source": [
    "%matplotlib inline\n",
    "\n",
    "import matplotlib.image  as mpimg\n",
    "import matplotlib.pyplot as plt\n",
    "\n",
    "#-----------------------------------------------------------\n",
    "# Retrieve a list of list results on training and test data\n",
    "# sets for each training epoch\n",
    "#-----------------------------------------------------------\n",
    "acc=history.history['accuracy']\n",
    "val_acc=history.history['val_accuracy']\n",
    "loss=history.history['loss']\n",
    "val_loss=history.history['val_loss']\n",
    "\n",
    "epochs=range(len(acc)) # Get number of epochs\n",
    "\n",
    "#------------------------------------------------\n",
    "# Plot training and validation accuracy per epoch\n",
    "#------------------------------------------------\n",
    "plt.plot(epochs, acc, 'r', \"Training Accuracy\")\n",
    "plt.plot(epochs, val_acc, 'b', \"Validation Accuracy\")\n",
    "plt.title('Training and validation accuracy')\n",
    "plt.figure()\n",
    "\n",
    "#------------------------------------------------\n",
    "# Plot training and validation loss per epoch\n",
    "#------------------------------------------------\n",
    "plt.plot(epochs, loss, 'r', \"Training Loss\")\n",
    "plt.plot(epochs, val_loss, 'b', \"Validation Loss\")\n",
    "plt.figure()"
   ]
  },
  {
   "cell_type": "code",
   "execution_count": 39,
   "metadata": {
    "colab": {},
    "colab_type": "code",
    "id": "7vC-6K1e6BcB"
   },
   "outputs": [],
   "source": [
    "import cv2\n",
    "from PIL import Image\n",
    "\n",
    "images = [\n",
    "    cv2.resize(np.asarray(Image.open(f\"./images/{i}.jpg\")), (32,32 ))\n",
    "    for i in range(6536)\n",
    "]"
   ]
  },
  {
   "cell_type": "code",
   "execution_count": 28,
   "metadata": {},
   "outputs": [
    {
     "ename": "AttributeError",
     "evalue": "'list' object has no attribute 'values'",
     "output_type": "error",
     "traceback": [
      "\u001b[0;31m---------------------------------------------------------------------------\u001b[0m",
      "\u001b[0;31mAttributeError\u001b[0m                            Traceback (most recent call last)",
      "Cell \u001b[0;32mIn[28], line 1\u001b[0m\n\u001b[0;32m----> 1\u001b[0m images2 \u001b[38;5;241m=\u001b[39m \u001b[43mimages\u001b[49m\u001b[38;5;241;43m.\u001b[39;49m\u001b[43mvalues\u001b[49m\u001b[38;5;241m.\u001b[39mreshape(\u001b[38;5;241m-\u001b[39m\u001b[38;5;241m1\u001b[39m,\u001b[38;5;241m28\u001b[39m,\u001b[38;5;241m28\u001b[39m,\u001b[38;5;241m1\u001b[39m)\n",
      "\u001b[0;31mAttributeError\u001b[0m: 'list' object has no attribute 'values'"
     ]
    }
   ],
   "source": [
    "images2 = images.values.reshape(-1,28,28,1)\n"
   ]
  },
  {
   "cell_type": "markdown",
   "metadata": {
    "colab_type": "text",
    "id": "xir0WKsj6BcD"
   },
   "source": [
    "### Submission"
   ]
  },
  {
   "cell_type": "code",
   "execution_count": 40,
   "metadata": {
    "colab": {},
    "colab_type": "code",
    "id": "GlAE5LSp6BcE"
   },
   "outputs": [
    {
     "ename": "ValueError",
     "evalue": "in user code:\n\n    File \"/opt/homebrew/lib/python3.11/site-packages/keras/src/engine/training.py\", line 2341, in predict_function  *\n        return step_function(self, iterator)\n    File \"/opt/homebrew/lib/python3.11/site-packages/keras/src/engine/training.py\", line 2327, in step_function  **\n        outputs = model.distribute_strategy.run(run_step, args=(data,))\n    File \"/opt/homebrew/lib/python3.11/site-packages/keras/src/engine/training.py\", line 2315, in run_step  **\n        outputs = model.predict_step(data)\n    File \"/opt/homebrew/lib/python3.11/site-packages/keras/src/engine/training.py\", line 2283, in predict_step\n        return self(x, training=False)\n    File \"/opt/homebrew/lib/python3.11/site-packages/keras/src/utils/traceback_utils.py\", line 70, in error_handler\n        raise e.with_traceback(filtered_tb) from None\n    File \"/opt/homebrew/lib/python3.11/site-packages/keras/src/engine/input_spec.py\", line 253, in assert_input_compatibility\n        raise ValueError(\n\n    ValueError: Exception encountered when calling layer 'LeNet5v2' (type Sequential).\n    \n    Input 0 of layer \"convolution_1\" is incompatible with the layer: expected min_ndim=4, found ndim=2. Full shape received: (32, 32)\n    \n    Call arguments received by layer 'LeNet5v2' (type Sequential):\n      • inputs=tf.Tensor(shape=(32, 32), dtype=uint8)\n      • training=False\n      • mask=None\n",
     "output_type": "error",
     "traceback": [
      "\u001b[0;31m---------------------------------------------------------------------------\u001b[0m",
      "\u001b[0;31mValueError\u001b[0m                                Traceback (most recent call last)",
      "Cell \u001b[0;32mIn[40], line 1\u001b[0m\n\u001b[0;32m----> 1\u001b[0m results \u001b[38;5;241m=\u001b[39m \u001b[43mLeNet5Model\u001b[49m\u001b[38;5;241;43m.\u001b[39;49m\u001b[43mpredict\u001b[49m\u001b[43m(\u001b[49m\u001b[43mimages\u001b[49m\u001b[43m[\u001b[49m\u001b[38;5;241;43m0\u001b[39;49m\u001b[43m]\u001b[49m\u001b[43m)\u001b[49m\n\u001b[1;32m      2\u001b[0m results \u001b[38;5;241m=\u001b[39m np\u001b[38;5;241m.\u001b[39margmax(results,axis \u001b[38;5;241m=\u001b[39m \u001b[38;5;241m1\u001b[39m)\n\u001b[1;32m      3\u001b[0m results \u001b[38;5;241m=\u001b[39m pd\u001b[38;5;241m.\u001b[39mSeries(results,name\u001b[38;5;241m=\u001b[39m\u001b[38;5;124m\"\u001b[39m\u001b[38;5;124mLabel\u001b[39m\u001b[38;5;124m\"\u001b[39m)\n",
      "File \u001b[0;32m/opt/homebrew/lib/python3.11/site-packages/keras/src/utils/traceback_utils.py:70\u001b[0m, in \u001b[0;36mfilter_traceback.<locals>.error_handler\u001b[0;34m(*args, **kwargs)\u001b[0m\n\u001b[1;32m     67\u001b[0m     filtered_tb \u001b[38;5;241m=\u001b[39m _process_traceback_frames(e\u001b[38;5;241m.\u001b[39m__traceback__)\n\u001b[1;32m     68\u001b[0m     \u001b[38;5;66;03m# To get the full stack trace, call:\u001b[39;00m\n\u001b[1;32m     69\u001b[0m     \u001b[38;5;66;03m# `tf.debugging.disable_traceback_filtering()`\u001b[39;00m\n\u001b[0;32m---> 70\u001b[0m     \u001b[38;5;28;01mraise\u001b[39;00m e\u001b[38;5;241m.\u001b[39mwith_traceback(filtered_tb) \u001b[38;5;28;01mfrom\u001b[39;00m \u001b[38;5;28;01mNone\u001b[39;00m\n\u001b[1;32m     71\u001b[0m \u001b[38;5;28;01mfinally\u001b[39;00m:\n\u001b[1;32m     72\u001b[0m     \u001b[38;5;28;01mdel\u001b[39;00m filtered_tb\n",
      "File \u001b[0;32m/var/folders/d5/fzzr258936sc3d2gn9s5rtg40000gn/T/__autograph_generated_fileh286ggos.py:15\u001b[0m, in \u001b[0;36mouter_factory.<locals>.inner_factory.<locals>.tf__predict_function\u001b[0;34m(iterator)\u001b[0m\n\u001b[1;32m     13\u001b[0m \u001b[38;5;28;01mtry\u001b[39;00m:\n\u001b[1;32m     14\u001b[0m     do_return \u001b[38;5;241m=\u001b[39m \u001b[38;5;28;01mTrue\u001b[39;00m\n\u001b[0;32m---> 15\u001b[0m     retval_ \u001b[38;5;241m=\u001b[39m ag__\u001b[38;5;241m.\u001b[39mconverted_call(ag__\u001b[38;5;241m.\u001b[39mld(step_function), (ag__\u001b[38;5;241m.\u001b[39mld(\u001b[38;5;28mself\u001b[39m), ag__\u001b[38;5;241m.\u001b[39mld(iterator)), \u001b[38;5;28;01mNone\u001b[39;00m, fscope)\n\u001b[1;32m     16\u001b[0m \u001b[38;5;28;01mexcept\u001b[39;00m:\n\u001b[1;32m     17\u001b[0m     do_return \u001b[38;5;241m=\u001b[39m \u001b[38;5;28;01mFalse\u001b[39;00m\n",
      "\u001b[0;31mValueError\u001b[0m: in user code:\n\n    File \"/opt/homebrew/lib/python3.11/site-packages/keras/src/engine/training.py\", line 2341, in predict_function  *\n        return step_function(self, iterator)\n    File \"/opt/homebrew/lib/python3.11/site-packages/keras/src/engine/training.py\", line 2327, in step_function  **\n        outputs = model.distribute_strategy.run(run_step, args=(data,))\n    File \"/opt/homebrew/lib/python3.11/site-packages/keras/src/engine/training.py\", line 2315, in run_step  **\n        outputs = model.predict_step(data)\n    File \"/opt/homebrew/lib/python3.11/site-packages/keras/src/engine/training.py\", line 2283, in predict_step\n        return self(x, training=False)\n    File \"/opt/homebrew/lib/python3.11/site-packages/keras/src/utils/traceback_utils.py\", line 70, in error_handler\n        raise e.with_traceback(filtered_tb) from None\n    File \"/opt/homebrew/lib/python3.11/site-packages/keras/src/engine/input_spec.py\", line 253, in assert_input_compatibility\n        raise ValueError(\n\n    ValueError: Exception encountered when calling layer 'LeNet5v2' (type Sequential).\n    \n    Input 0 of layer \"convolution_1\" is incompatible with the layer: expected min_ndim=4, found ndim=2. Full shape received: (32, 32)\n    \n    Call arguments received by layer 'LeNet5v2' (type Sequential):\n      • inputs=tf.Tensor(shape=(32, 32), dtype=uint8)\n      • training=False\n      • mask=None\n"
     ]
    }
   ],
   "source": [
    "results = LeNet5Model.predict(images[0])\n",
    "results = np.argmax(results,axis = 1)\n",
    "results = pd.Series(results,name=\"Label\")"
   ]
  },
  {
   "cell_type": "code",
   "execution_count": null,
   "metadata": {},
   "outputs": [],
   "source": []
  },
  {
   "cell_type": "code",
   "execution_count": 20,
   "metadata": {
    "colab": {},
    "colab_type": "code",
    "id": "-w33Crgt6BcH"
   },
   "outputs": [],
   "source": [
    "submission = pd.concat([pd.Series(range(1,28001),name = \"ImageId\"),results],axis = 1)\n",
    "submission.to_csv(\"LeNetv2.csv\",index=False)"
   ]
  },
  {
   "cell_type": "code",
   "execution_count": 31,
   "metadata": {
    "colab": {},
    "colab_type": "code",
    "id": "mA-Gf-JZ6BcK"
   },
   "outputs": [
    {
     "ename": "ValueError",
     "evalue": "operands could not be broadcast together with remapped shapes [original->remapped]: (4,2)  and requested shape (3,2)",
     "output_type": "error",
     "traceback": [
      "\u001b[0;31m---------------------------------------------------------------------------\u001b[0m",
      "\u001b[0;31mValueError\u001b[0m                                Traceback (most recent call last)",
      "Cell \u001b[0;32mIn[31], line 22\u001b[0m\n\u001b[1;32m      1\u001b[0m \u001b[38;5;124;03m\"\"\"\u001b[39;00m\n\u001b[1;32m      2\u001b[0m \n\u001b[1;32m      3\u001b[0m \u001b[38;5;124;03m# Standardization\u001b[39;00m\n\u001b[0;32m   (...)\u001b[0m\n\u001b[1;32m     18\u001b[0m \u001b[38;5;124;03mY_val = to_categorical(Y_val, num_classes = 10)\u001b[39;00m\n\u001b[1;32m     19\u001b[0m \u001b[38;5;124;03m\"\"\"\u001b[39;00m\n\u001b[1;32m     21\u001b[0m images2 \u001b[38;5;241m=\u001b[39m np\u001b[38;5;241m.\u001b[39marray(images)\n\u001b[0;32m---> 22\u001b[0m images3 \u001b[38;5;241m=\u001b[39m \u001b[43mnp\u001b[49m\u001b[38;5;241;43m.\u001b[39;49m\u001b[43mpad\u001b[49m\u001b[43m(\u001b[49m\u001b[43mimages2\u001b[49m\u001b[43m,\u001b[49m\u001b[43m \u001b[49m\u001b[43m(\u001b[49m\u001b[43m(\u001b[49m\u001b[38;5;241;43m0\u001b[39;49m\u001b[43m,\u001b[49m\u001b[38;5;241;43m0\u001b[39;49m\u001b[43m)\u001b[49m\u001b[43m,\u001b[49m\u001b[43m(\u001b[49m\u001b[38;5;241;43m2\u001b[39;49m\u001b[43m,\u001b[49m\u001b[38;5;241;43m2\u001b[39;49m\u001b[43m)\u001b[49m\u001b[43m,\u001b[49m\u001b[43m(\u001b[49m\u001b[38;5;241;43m2\u001b[39;49m\u001b[43m,\u001b[49m\u001b[38;5;241;43m2\u001b[39;49m\u001b[43m)\u001b[49m\u001b[43m,\u001b[49m\u001b[43m(\u001b[49m\u001b[38;5;241;43m0\u001b[39;49m\u001b[43m,\u001b[49m\u001b[38;5;241;43m0\u001b[39;49m\u001b[43m)\u001b[49m\u001b[43m)\u001b[49m\u001b[43m,\u001b[49m\u001b[43m \u001b[49m\u001b[38;5;124;43m'\u001b[39;49m\u001b[38;5;124;43mconstant\u001b[39;49m\u001b[38;5;124;43m'\u001b[39;49m\u001b[43m)\u001b[49m\n",
      "File \u001b[0;32m<__array_function__ internals>:200\u001b[0m, in \u001b[0;36mpad\u001b[0;34m(*args, **kwargs)\u001b[0m\n",
      "File \u001b[0;32m/opt/homebrew/lib/python3.11/site-packages/numpy/lib/arraypad.py:744\u001b[0m, in \u001b[0;36mpad\u001b[0;34m(array, pad_width, mode, **kwargs)\u001b[0m\n\u001b[1;32m    741\u001b[0m     \u001b[38;5;28;01mraise\u001b[39;00m \u001b[38;5;167;01mTypeError\u001b[39;00m(\u001b[38;5;124m'\u001b[39m\u001b[38;5;124m`pad_width` must be of integral type.\u001b[39m\u001b[38;5;124m'\u001b[39m)\n\u001b[1;32m    743\u001b[0m \u001b[38;5;66;03m# Broadcast to shape (array.ndim, 2)\u001b[39;00m\n\u001b[0;32m--> 744\u001b[0m pad_width \u001b[38;5;241m=\u001b[39m \u001b[43m_as_pairs\u001b[49m\u001b[43m(\u001b[49m\u001b[43mpad_width\u001b[49m\u001b[43m,\u001b[49m\u001b[43m \u001b[49m\u001b[43marray\u001b[49m\u001b[38;5;241;43m.\u001b[39;49m\u001b[43mndim\u001b[49m\u001b[43m,\u001b[49m\u001b[43m \u001b[49m\u001b[43mas_index\u001b[49m\u001b[38;5;241;43m=\u001b[39;49m\u001b[38;5;28;43;01mTrue\u001b[39;49;00m\u001b[43m)\u001b[49m\n\u001b[1;32m    746\u001b[0m \u001b[38;5;28;01mif\u001b[39;00m \u001b[38;5;28mcallable\u001b[39m(mode):\n\u001b[1;32m    747\u001b[0m     \u001b[38;5;66;03m# Old behavior: Use user-supplied function with np.apply_along_axis\u001b[39;00m\n\u001b[1;32m    748\u001b[0m     function \u001b[38;5;241m=\u001b[39m mode\n",
      "File \u001b[0;32m/opt/homebrew/lib/python3.11/site-packages/numpy/lib/arraypad.py:518\u001b[0m, in \u001b[0;36m_as_pairs\u001b[0;34m(x, ndim, as_index)\u001b[0m\n\u001b[1;32m    514\u001b[0m     \u001b[38;5;28;01mraise\u001b[39;00m \u001b[38;5;167;01mValueError\u001b[39;00m(\u001b[38;5;124m\"\u001b[39m\u001b[38;5;124mindex can\u001b[39m\u001b[38;5;124m'\u001b[39m\u001b[38;5;124mt contain negative values\u001b[39m\u001b[38;5;124m\"\u001b[39m)\n\u001b[1;32m    516\u001b[0m \u001b[38;5;66;03m# Converting the array with `tolist` seems to improve performance\u001b[39;00m\n\u001b[1;32m    517\u001b[0m \u001b[38;5;66;03m# when iterating and indexing the result (see usage in `pad`)\u001b[39;00m\n\u001b[0;32m--> 518\u001b[0m \u001b[38;5;28;01mreturn\u001b[39;00m \u001b[43mnp\u001b[49m\u001b[38;5;241;43m.\u001b[39;49m\u001b[43mbroadcast_to\u001b[49m\u001b[43m(\u001b[49m\u001b[43mx\u001b[49m\u001b[43m,\u001b[49m\u001b[43m \u001b[49m\u001b[43m(\u001b[49m\u001b[43mndim\u001b[49m\u001b[43m,\u001b[49m\u001b[43m \u001b[49m\u001b[38;5;241;43m2\u001b[39;49m\u001b[43m)\u001b[49m\u001b[43m)\u001b[49m\u001b[38;5;241m.\u001b[39mtolist()\n",
      "File \u001b[0;32m<__array_function__ internals>:200\u001b[0m, in \u001b[0;36mbroadcast_to\u001b[0;34m(*args, **kwargs)\u001b[0m\n",
      "File \u001b[0;32m/opt/homebrew/lib/python3.11/site-packages/numpy/lib/stride_tricks.py:413\u001b[0m, in \u001b[0;36mbroadcast_to\u001b[0;34m(array, shape, subok)\u001b[0m\n\u001b[1;32m    367\u001b[0m \u001b[38;5;129m@array_function_dispatch\u001b[39m(_broadcast_to_dispatcher, module\u001b[38;5;241m=\u001b[39m\u001b[38;5;124m'\u001b[39m\u001b[38;5;124mnumpy\u001b[39m\u001b[38;5;124m'\u001b[39m)\n\u001b[1;32m    368\u001b[0m \u001b[38;5;28;01mdef\u001b[39;00m \u001b[38;5;21mbroadcast_to\u001b[39m(array, shape, subok\u001b[38;5;241m=\u001b[39m\u001b[38;5;28;01mFalse\u001b[39;00m):\n\u001b[1;32m    369\u001b[0m \u001b[38;5;250m    \u001b[39m\u001b[38;5;124;03m\"\"\"Broadcast an array to a new shape.\u001b[39;00m\n\u001b[1;32m    370\u001b[0m \n\u001b[1;32m    371\u001b[0m \u001b[38;5;124;03m    Parameters\u001b[39;00m\n\u001b[0;32m   (...)\u001b[0m\n\u001b[1;32m    411\u001b[0m \u001b[38;5;124;03m           [1, 2, 3]])\u001b[39;00m\n\u001b[1;32m    412\u001b[0m \u001b[38;5;124;03m    \"\"\"\u001b[39;00m\n\u001b[0;32m--> 413\u001b[0m     \u001b[38;5;28;01mreturn\u001b[39;00m \u001b[43m_broadcast_to\u001b[49m\u001b[43m(\u001b[49m\u001b[43marray\u001b[49m\u001b[43m,\u001b[49m\u001b[43m \u001b[49m\u001b[43mshape\u001b[49m\u001b[43m,\u001b[49m\u001b[43m \u001b[49m\u001b[43msubok\u001b[49m\u001b[38;5;241;43m=\u001b[39;49m\u001b[43msubok\u001b[49m\u001b[43m,\u001b[49m\u001b[43m \u001b[49m\u001b[43mreadonly\u001b[49m\u001b[38;5;241;43m=\u001b[39;49m\u001b[38;5;28;43;01mTrue\u001b[39;49;00m\u001b[43m)\u001b[49m\n",
      "File \u001b[0;32m/opt/homebrew/lib/python3.11/site-packages/numpy/lib/stride_tricks.py:349\u001b[0m, in \u001b[0;36m_broadcast_to\u001b[0;34m(array, shape, subok, readonly)\u001b[0m\n\u001b[1;32m    346\u001b[0m     \u001b[38;5;28;01mraise\u001b[39;00m \u001b[38;5;167;01mValueError\u001b[39;00m(\u001b[38;5;124m'\u001b[39m\u001b[38;5;124mall elements of broadcast shape must be non-\u001b[39m\u001b[38;5;124m'\u001b[39m\n\u001b[1;32m    347\u001b[0m                      \u001b[38;5;124m'\u001b[39m\u001b[38;5;124mnegative\u001b[39m\u001b[38;5;124m'\u001b[39m)\n\u001b[1;32m    348\u001b[0m extras \u001b[38;5;241m=\u001b[39m []\n\u001b[0;32m--> 349\u001b[0m it \u001b[38;5;241m=\u001b[39m \u001b[43mnp\u001b[49m\u001b[38;5;241;43m.\u001b[39;49m\u001b[43mnditer\u001b[49m\u001b[43m(\u001b[49m\n\u001b[1;32m    350\u001b[0m \u001b[43m    \u001b[49m\u001b[43m(\u001b[49m\u001b[43marray\u001b[49m\u001b[43m,\u001b[49m\u001b[43m)\u001b[49m\u001b[43m,\u001b[49m\u001b[43m \u001b[49m\u001b[43mflags\u001b[49m\u001b[38;5;241;43m=\u001b[39;49m\u001b[43m[\u001b[49m\u001b[38;5;124;43m'\u001b[39;49m\u001b[38;5;124;43mmulti_index\u001b[39;49m\u001b[38;5;124;43m'\u001b[39;49m\u001b[43m,\u001b[49m\u001b[43m \u001b[49m\u001b[38;5;124;43m'\u001b[39;49m\u001b[38;5;124;43mrefs_ok\u001b[39;49m\u001b[38;5;124;43m'\u001b[39;49m\u001b[43m,\u001b[49m\u001b[43m \u001b[49m\u001b[38;5;124;43m'\u001b[39;49m\u001b[38;5;124;43mzerosize_ok\u001b[39;49m\u001b[38;5;124;43m'\u001b[39;49m\u001b[43m]\u001b[49m\u001b[43m \u001b[49m\u001b[38;5;241;43m+\u001b[39;49m\u001b[43m \u001b[49m\u001b[43mextras\u001b[49m\u001b[43m,\u001b[49m\n\u001b[1;32m    351\u001b[0m \u001b[43m    \u001b[49m\u001b[43mop_flags\u001b[49m\u001b[38;5;241;43m=\u001b[39;49m\u001b[43m[\u001b[49m\u001b[38;5;124;43m'\u001b[39;49m\u001b[38;5;124;43mreadonly\u001b[39;49m\u001b[38;5;124;43m'\u001b[39;49m\u001b[43m]\u001b[49m\u001b[43m,\u001b[49m\u001b[43m \u001b[49m\u001b[43mitershape\u001b[49m\u001b[38;5;241;43m=\u001b[39;49m\u001b[43mshape\u001b[49m\u001b[43m,\u001b[49m\u001b[43m \u001b[49m\u001b[43morder\u001b[49m\u001b[38;5;241;43m=\u001b[39;49m\u001b[38;5;124;43m'\u001b[39;49m\u001b[38;5;124;43mC\u001b[39;49m\u001b[38;5;124;43m'\u001b[39;49m\u001b[43m)\u001b[49m\n\u001b[1;32m    352\u001b[0m \u001b[38;5;28;01mwith\u001b[39;00m it:\n\u001b[1;32m    353\u001b[0m     \u001b[38;5;66;03m# never really has writebackifcopy semantics\u001b[39;00m\n\u001b[1;32m    354\u001b[0m     broadcast \u001b[38;5;241m=\u001b[39m it\u001b[38;5;241m.\u001b[39mitviews[\u001b[38;5;241m0\u001b[39m]\n",
      "\u001b[0;31mValueError\u001b[0m: operands could not be broadcast together with remapped shapes [original->remapped]: (4,2)  and requested shape (3,2)"
     ]
    }
   ],
   "source": [
    "\"\"\"\n",
    "\n",
    "# Standardization\n",
    "mean_px = X_train.mean().astype(np.float32)\n",
    "std_px = X_train.std().astype(np.float32)\n",
    "X_train = (X_train - mean_px)/(std_px)\n",
    "\n",
    "mean_px = X_val.mean().astype(np.float32)\n",
    "std_px = X_val.std().astype(np.float32)\n",
    "X_val = (X_val - mean_px)/(std_px)\n",
    "\n",
    "mean_px = X_test.mean().astype(np.float32)\n",
    "std_px = X_test.std().astype(np.float32)\n",
    "X_test = (X_test - mean_px)/(std_px)\n",
    "\n",
    "# One-hot encoding the labels\n",
    "Y_train = to_categorical(Y_train, num_classes = 10)\n",
    "Y_val = to_categorical(Y_val, num_classes = 10)\n",
    "\"\"\"\n",
    "\n",
    "images2 = np.array(images)\n",
    "images3 = np.pad(images2, ((0,0),(2,2),(2,2),(0,0)), 'constant')\n"
   ]
  },
  {
   "cell_type": "markdown",
   "metadata": {
    "colab_type": "text",
    "id": "ibAgbyo16BcM"
   },
   "source": [
    "### References\n",
    "\n",
    "* **Yassine Ghouzam**, PhD - Parameters for Data Augmentation using Image Data Generator, Variable Learning Rate using ReduceLROnPlateau (https://www.kaggle.com/yassineghouzam/introduction-to-cnn-keras-0-997-top-6)\n",
    "\n",
    "* **Taavish Thaman** - LeNet-5 Keras (https://github.com/TaavishThaman/LeNet-5-with-Keras)"
   ]
  }
 ],
 "metadata": {
  "accelerator": "GPU",
  "colab": {
   "collapsed_sections": [],
   "name": "Digit-Recognizer-MNIST.ipynb",
   "provenance": []
  },
  "kernelspec": {
   "display_name": "Python 3 (ipykernel)",
   "language": "python",
   "name": "python3"
  },
  "language_info": {
   "codemirror_mode": {
    "name": "ipython",
    "version": 3
   },
   "file_extension": ".py",
   "mimetype": "text/x-python",
   "name": "python",
   "nbconvert_exporter": "python",
   "pygments_lexer": "ipython3",
   "version": "3.11.3"
  }
 },
 "nbformat": 4,
 "nbformat_minor": 1
}
